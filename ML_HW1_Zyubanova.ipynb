{
  "cells": [
    {
      "cell_type": "markdown",
      "metadata": {
        "id": "qT4lcRBz3JKd"
      },
      "source": [
        "## Машинное обучение 1, ПМИ ФКН ВШЭ\n",
        "\n",
        "## Практическое домашнее задание 1\n",
        "\n",
        "### Общая информация\n",
        "\n",
        "Дата выдачи: 25.09.2024\n",
        "\n",
        "Мягкий дедлайн: 23:59MSK 06.10.2024\n",
        "\n",
        "Жесткий дедлайн: 23:59MSK 10.10.2024"
      ]
    },
    {
      "cell_type": "markdown",
      "metadata": {
        "id": "UzmZAvdT3JKf"
      },
      "source": [
        "### О задании\n",
        "\n",
        "Задание состоит из двух разделов, посвященных работе с табличными данными с помощью библиотеки `polars` и визуализации с помощью `matplotlib`. В первом разделе вам предстоит выполнить базовые задания с помощью вышеуказанных библиотек, а во втором распределить студентов по курсам. Баллы даются за выполнение отдельных пунктов. Задачи в рамках одного раздела рекомендуется решать в том порядке, в котором они даны в задании.\n",
        "\n",
        "Задание направлено на освоение jupyter notebook (будет использоваться в дальнейших заданиях), библиотек polars и matplotlib.\n",
        "\n",
        "### Оценивание и штрафы\n",
        "Каждая из задач имеет определенную «стоимость» (указана в скобках около задачи). Максимально допустимая оценка за работу — 10 баллов без учёта бонусов. Сдавать задание после жёсткого дедлайна нельзя.\n",
        "\n",
        "Задание выполняется самостоятельно. «Похожие» решения считаются плагиатом и все задействованные студенты (в том числе те, у кого списали) не могут получить за него больше 0 баллов (подробнее о плагиате см. на странице курса). Если вы нашли решение какого-то из заданий (или его часть) в открытом источнике, необходимо указать ссылку на этот источник (скорее всего вы будете не единственным, кто это нашел, поэтому чтобы исключить подозрение в плагиате, необходима ссылка на источник).\n",
        "\n",
        "### Формат сдачи\n",
        "Задания сдаются через систему Anytask. Инвайт можно получить у семинариста или ассистента. Присылать необходимо ноутбук с выполненным заданием. Сам ноутбук называйте в формате `homework-practice-01-polars-Username.ipynb`, где Username — ваша фамилия.\n",
        "\n",
        "Для удобства проверки самостоятельно посчитайте свою максимальную оценку (исходя из набора решенных задач) и укажите ниже.\n",
        "\n",
        "Оценка: xx."
      ]
    },
    {
      "cell_type": "markdown",
      "metadata": {
        "id": "bQMq9hxz3JKg"
      },
      "source": [
        "## 0. Введение"
      ]
    },
    {
      "cell_type": "markdown",
      "metadata": {
        "id": "rDm3xw-Y3JKg"
      },
      "source": [
        "Сейчас мы находимся в jupyter-ноутбуке (или ipython-ноутбуке). Это удобная среда для написания кода, проведения экспериментов, изучения данных, построения визуализаций и других нужд, не связанных с написанием production-кода.\n",
        "\n",
        "Ноутбук состоит из ячеек, каждая из которых может быть либо ячейкой с кодом, либо ячейкой с текстом размеченным и неразмеченным. Текст поддерживает markdown-разметку и формулы в Latex.\n",
        "\n",
        "Для работы с содержимым ячейки используется *режим редактирования* (*Edit mode*, включается нажатием клавиши **Enter** после выбора ячейки), а для навигации между ячейками искользуется *командный режим* (*Command mode*, включается нажатием клавиши **Esc**). Тип ячейки можно задать в командном режиме либо с помощью горячих клавиш (**y** to code, **m** to markdown, **r** to edit raw text), либо в меню *Cell -> Cell type*.\n",
        "\n",
        "После заполнения ячейки нужно нажать *Shift + Enter*, эта команда обработает содержимое ячейки: проинтерпретирует код или сверстает размеченный текст."
      ]
    },
    {
      "cell_type": "code",
      "execution_count": 112,
      "metadata": {
        "id": "OEmmbrlv3JKh",
        "colab": {
          "base_uri": "https://localhost:8080/"
        },
        "outputId": "56319141-1811-43cf-82f3-a5a0767b6436"
      },
      "outputs": [
        {
          "output_type": "execute_result",
          "data": {
            "text/plain": [
              "4"
            ]
          },
          "metadata": {},
          "execution_count": 112
        }
      ],
      "source": [
        "# ячейка с кодом, при выполнении которой появится output\n",
        "2 + 2"
      ]
    },
    {
      "cell_type": "markdown",
      "metadata": {
        "id": "pHuI1gxN3JKi"
      },
      "source": [
        "Ячейка с неразмеченыным текстом."
      ]
    },
    {
      "cell_type": "markdown",
      "metadata": {
        "id": "7Od1jM9q3JKi"
      },
      "source": [
        "Попробуйте создать свои ячейки, написать какой-нибудь код и текст какой-нибудь формулой."
      ]
    },
    {
      "cell_type": "code",
      "execution_count": 113,
      "metadata": {
        "id": "bmR2-3Ut3JKi"
      },
      "outputs": [],
      "source": [
        "# your code"
      ]
    },
    {
      "cell_type": "markdown",
      "metadata": {
        "id": "eNSsZ84J3JKj"
      },
      "source": [
        "[Здесь](https://athena.brynmawr.edu/jupyter/hub/dblank/public/Jupyter%20Notebook%20Users%20Manual.ipynb) находится <s>не</s>большая заметка о используемом языке разметки Markdown. Он позволяет:\n",
        "\n",
        "0. Составлять упорядоченные списки\n",
        "1. Выделять *текст* <s>при</s> **необходимости**\n",
        "2. Добавлять [ссылки](http://imgs.xkcd.com/comics/the_universal_label.png)\n",
        "\n",
        "\n",
        "* Составлять неупорядоченные списки\n",
        "\n",
        "Делать вставки с помощью LaTex:\n",
        "    \n",
        "$\n",
        "\\left\\{\n",
        "\\begin{array}{ll}\n",
        "x = 16 \\sin^3 (t) \\\\\n",
        "y = 13 \\cos (t) - 5 \\cos (2t) - 2 \\cos (3t) - \\cos (4t) \\\\\n",
        "t \\in [0, 2 \\pi]\n",
        "\\end{array}\n",
        "\\right.$"
      ]
    },
    {
      "cell_type": "markdown",
      "metadata": {
        "id": "lmR9WkMh3JKj"
      },
      "source": [
        "А ещё можно вставлять картинки, или гифки, или что захотите:\n",
        "\n",
        "<img src=\"https://i.imgur.com/k5df8lX.gif\" width=\"400px\">\n",
        "\n"
      ]
    },
    {
      "cell_type": "markdown",
      "metadata": {
        "id": "dPLYl66y3JKj"
      },
      "source": [
        "### Google Colab"
      ]
    },
    {
      "cell_type": "markdown",
      "metadata": {
        "id": "A4lqG21G3JKj"
      },
      "source": [
        "Что за колаб?\n",
        "\n",
        "**Google Colab (Colaboratory)** это **Jupyter Notebook + Cloud + Google Drive.**\n",
        "\n",
        "Компания Google предоставляет возможность бесплатно запускать ноутбуки (предварительно загрузив их на свой гугл-диск) прямо в облаке. При этом вам не требуется установка никаких пакетов на свою машину, а работать можно прямиком из браузера. Вот ссылка:"
      ]
    },
    {
      "cell_type": "markdown",
      "metadata": {
        "id": "79bVOFY_3JKj"
      },
      "source": [
        "https://colab.research.google.com"
      ]
    },
    {
      "cell_type": "markdown",
      "metadata": {
        "id": "LnMoUH2P3JKj"
      },
      "source": [
        "При использовании вы увидите много сходств с jupyter ноутбуком. Одним из преимуществ является доступность GPU, соответствующую опцию можно активировать в настройках сервиса. При желании вы сможете найти в интернете много туториалов по использованию или разобраться самостоятельно =)"
      ]
    },
    {
      "cell_type": "markdown",
      "metadata": {
        "id": "iAb44N3VjD11"
      },
      "source": [
        "### Kaggle\n",
        "\n",
        "Альтернативой является **Kaggle**, он же площадка для самых разных соревнований по машинному обучению\n",
        "\n",
        "Он, как и колаб, предоставляет бесплатный GPU, и даже не один, с чётким лимитом в 30 часов в неделю (colab может его внезапно отобрать, kaggle - нет) более мощные CPU с большим числом ядер, и больше Гб ОЗУ (раз так в 2.5)\n",
        "\n",
        "https://www.kaggle.com\n",
        "\n",
        "К сожалению мир не идеален, недостатки следующие:\n",
        "- необходимость загружать датасеты через специальную кнопочку\n",
        "- невозможность использовать свои скрипты и модули :(\n",
        "- нужно тыкать техподдержку, чтобы создать аккаунт из России"
      ]
    },
    {
      "cell_type": "markdown",
      "metadata": {
        "id": "91bWX9jd3JKk"
      },
      "source": [
        "## 1. Табличные данные и Polars"
      ]
    },
    {
      "cell_type": "markdown",
      "metadata": {
        "id": "Z9L3rKBm3JKk"
      },
      "source": [
        "Эта версия домашки предполагает, что вы уже являетесь уверенным пользователем `pandas` и знакомы с датафреймами, как они устроены и как ими манипулировать. Библиотека `polars` основана на тех же концептах.\n",
        "\n",
        "Главные достоинства, которые чуть позже продемонстрируем:\n",
        "- он написан на Rust, поэтому почти все операции в нём выполняются значительно быстрее, есть распараллеливание из коробки, автоматическая оптимизация запросов и пр\n",
        "- он позволяет работать с данными, которые не помещаются в оперативку, с этим поможет `pl.LazyFrame` и streaming\n",
        "- конечно же имеются дополнительные функции, которых в `pandas` нет, но очень хочется, например агрегации с расширяющимся окном, произвольные оконные функции и прочее, для этого есть крайне гибкая штука `pl.Expr`\n",
        "\n",
        "Подробнее можете прочитать на [любом](https://habr.com/ru/articles/710240/) [ресурсе](https://realpython.com/polars-python/), [посвящённом](https://blog.jetbrains.com/pycharm/2024/07/polars-vs-pandas/) [`polars`](https://habr.com/ru/companies/spectr/articles/738766/)\n",
        "\n",
        "В этой части потребуется выполнить несколько небольших заданий. Можно пойти двумя путями: сначала изучить материалы, а потом приступить к заданиям, или же разбираться \"по ходу\". Выбирайте сами\n",
        "\n",
        "Если не понятно, как вызывать конкретный метод, обратитесь к материалам ниже. Имейте в виду, что синтаксис `polars` отличается от привычного нампаевского.\n",
        "Скорее всего все ваши самые извращённые фантазии уже как-то реализованы в `polars`, поэтому читайте внимательно. Ну и конечно гуглить не запрещено, но желательно прикладывать источник\n",
        "\n",
        "Материалы:\n",
        "1. [Getting started](https://docs.pola.rs/user-guide/getting-started/#reading-writing) из официального руководства\n",
        "2. [Документация](https://docs.pola.rs/api/python/stable/reference/index.html) со всем необходимым\n",
        "3. [Модификация для Data Science](https://polars-ds-extension.readthedocs.io/en/latest/index.html), вам скорее всего не понадобится в данном задании, но имейте в виду\n",
        "\n",
        "Многие из заданий можно выполнить несколькими способами. Не существуют единственно верного, но попробуйте максимально задействовать арсенал polars и ориентируйтесь на простоту и понятность вашего кода. Мы не будем подсказывать, что нужно использовать для решения конкретной задачи, попробуйте находить необходимый функционал сами (название метода чаще всего очевидно)"
      ]
    },
    {
      "cell_type": "code",
      "execution_count": 114,
      "metadata": {
        "id": "TwYQ-X_Q-m2A"
      },
      "outputs": [],
      "source": [
        "# поларс относительно молодой, имейте в виду, что что-то может сломаться, если будете менять версию\n",
        "!pip install -qU hvplot xlsx2csv polars==1.5.0"
      ]
    },
    {
      "cell_type": "code",
      "execution_count": 115,
      "metadata": {
        "id": "72smvZpD3JKk"
      },
      "outputs": [],
      "source": [
        "import polars as pl"
      ]
    },
    {
      "cell_type": "markdown",
      "metadata": {
        "id": "hX2zRkMI3JKk"
      },
      "source": [
        "Скачаем данные:"
      ]
    },
    {
      "cell_type": "code",
      "execution_count": 116,
      "metadata": {
        "id": "a4wqrhEA3JKk"
      },
      "outputs": [],
      "source": [
        "!wget  -O 'end_seminar.xlsx' -q 'https://www.dropbox.com/s/f4rm8sjc3v99p0m/_end_seminar.xlsx?dl=0'"
      ]
    },
    {
      "cell_type": "markdown",
      "metadata": {
        "id": "joackhzP3JKl"
      },
      "source": [
        "Для пользователей Windows: скачайте файл самостоятельно и поместите его в папку с тетрадкой. Или попробуйте один из следующих вариантов:"
      ]
    },
    {
      "cell_type": "code",
      "execution_count": 117,
      "metadata": {
        "id": "yhc9NUeE3JKl"
      },
      "outputs": [],
      "source": [
        "# !powershell iwr -outf somefile https://somesite/somefile"
      ]
    },
    {
      "cell_type": "code",
      "execution_count": 118,
      "metadata": {
        "id": "FxbRPi183JKl"
      },
      "outputs": [],
      "source": [
        "# !pip install wget\n",
        "# import wget\n",
        "# wget.download('https://dropbox.com/s/f4rm8sjc3v99p0m/_end_seminar.xlsx?dl=1', 'end_seminar.xlsx')"
      ]
    },
    {
      "cell_type": "markdown",
      "metadata": {
        "id": "5hIwLXz43JKl"
      },
      "source": [
        "### 📌 **Обязательно прочитайте блок ниже**\n",
        "\n",
        "> Пандасом и нампаем пользоваться неельзяя... Совсем\n",
        "\n",
        "> В первой части задания (до раздела \"Распределение студентов по курсам\") использование циклов запрещается и повлечет за собой снижение оценки. Во второй уже можно, но с оговорками, о чём ниже\n",
        "\n",
        "> Циклами в данном случае считается `for`, `while` и map-методы `polars`, где можно использовать лямбда-функцию. Главным образом `map_elements` и его производные.\n",
        "И как правило, всё то, что не умеет делать `pl.LazyFrame` - список [здесь](https://docs.pola.rs/api/python/stable/reference/lazyframe/index.html). Мотивация следующая - используя встроенные функции и методы, `polars` может оптимизировать ваш запрос и провести все нужные манипуляции, прежде чем сериализовать и вывести ответ (за некоторыми исключениями), поэтому важно научиться с этим управляться\n",
        "\n",
        "> Чтобы сделать выбор `polars` осмысленным, мы немножко модифицируем исходный датасет. Он будет больше в несколько раз и может не влезть в память, если у вас меньше 8 Гб, а с учётом преобразований может потребоваться до 64 Гб! Не пренебрегайте возможностями `pl.LazyFrame`. Его использование не обязательно, но может сильно облегчить вам жизнь\n",
        "\n",
        "> Трансформировать датасет `df` можно, как только это потребуется по условию (таких пунктов всего 2), на всякий случай поставим значок 🔄\n",
        "\n",
        "> Если небрежно обращаться с методами `polars`, вы рискуете крашнуть ядро, взорвать компутер, потерять рассудок... Если вдруг у вас есть тачка или хотите подебажить на исходном датасете, то пожалуйста, но помните про условия выше\n",
        "\n",
        "> Гарантируется, что задание можно выполнить, имея лишь ресурсы Google Colab (бесплатные), удачи ( ͡° ͜ʖ ͡°)"
      ]
    },
    {
      "cell_type": "markdown",
      "metadata": {
        "id": "das_ZBWy3JKl"
      },
      "source": [
        "Для каждой задачи из этого раздела вы должны написать код для получения ответа, а также дать текстовый ответ, если он предполагается.\n",
        "\n",
        "На некоторые вопросы вы можете получить путём пристального взгляда на таблицу, но это не будет засчитываться. Вы в любом случае должны получить ответ с помощью кода."
      ]
    },
    {
      "cell_type": "markdown",
      "source": [
        "### 🐻 Бонус polars. [3 балла]\n",
        "Бонус за использование `polars` равен вашей оценке за дз, умноженной на коэффициент 1.3, поэтому даже если сделали не всё, не отчаивайтесь)"
      ],
      "metadata": {
        "id": "7L9UmKvHSBhk"
      }
    },
    {
      "cell_type": "markdown",
      "metadata": {
        "id": "KH2B5XPBDlgp"
      },
      "source": [
        "#### 0. Ещё пара красивых слов"
      ]
    },
    {
      "cell_type": "markdown",
      "metadata": {
        "id": "-pO9LsL5Dsds"
      },
      "source": [
        "Первые несколько манипуляций мы сделаем за вас, а заодно поясним, в чём тут нюанс"
      ]
    },
    {
      "cell_type": "code",
      "execution_count": 119,
      "metadata": {
        "colab": {
          "base_uri": "https://localhost:8080/"
        },
        "id": "Ee0QXmptDrX7",
        "outputId": "e276cfea-9ae0-4a6e-eb3c-e79fd65ff62f"
      },
      "outputs": [
        {
          "output_type": "stream",
          "name": "stdout",
          "text": [
            "361 rows\n",
            "0.14589881896972656 mb\n"
          ]
        }
      ],
      "source": [
        "# читаем датафрейм\n",
        "initial_df = pl.read_excel(\"end_seminar.xlsx\", engine=\"xlsx2csv\")\n",
        "print(initial_df.shape[0], \"rows\")\n",
        "print(initial_df.estimated_size(\"mb\"), \"mb\")"
      ]
    },
    {
      "cell_type": "markdown",
      "metadata": {
        "id": "P0nMQNXCD1IO"
      },
      "source": [
        "Как видим, он достаточно маленький. С такими объёмами выбор библиотеки это чисто вкусовщина. Давайте немного поднимем ставки"
      ]
    },
    {
      "cell_type": "code",
      "execution_count": 120,
      "metadata": {
        "id": "PzBRfWY1ECOV"
      },
      "outputs": [],
      "source": [
        "def repeat_df(df: pl.DataFrame | pl.LazyFrame, n: int = 2) -> pl.LazyFrame:\n",
        "    return (\n",
        "        df.lazy()\n",
        "        .select(pl.col(\"timestamp\").unique().sort().repeat_by(n).flatten())\n",
        "        .join(df.lazy(), on=\"timestamp\", how=\"left\")\n",
        "    )"
      ]
    },
    {
      "cell_type": "markdown",
      "metadata": {
        "id": "loouiViPEHGJ"
      },
      "source": [
        "Для работы с датафреймами, которые в память не влезают, нам понадобится объект `pl.LazyFrame`. Он представляет из себя схему выполнения вашего запроса, который оптимизируется, бьётся на батчи и параллелится под капотом через StreamingAPI, что для нас просто идеально. Перевести объект туда можно через метод `lazy`, обратно через `collect`. Учтите, что `streaming=True` работает не со всеми операциями, применяйте с умом, это можно проверить через `pl.LazyFrame.explain(streaming=True)`"
      ]
    },
    {
      "cell_type": "code",
      "execution_count": 121,
      "metadata": {
        "colab": {
          "base_uri": "https://localhost:8080/"
        },
        "id": "OvTbmiSjEEfA",
        "outputId": "97e24cb9-972c-4c6b-820a-6b15cf64e9a3"
      },
      "outputs": [
        {
          "output_type": "stream",
          "name": "stdout",
          "text": [
            "Schema\n",
            "LEFT JOIN:\n",
            "LEFT PLAN ON: [col(\"timestamp\")]\n",
            "   SELECT [col(\"timestamp\").unique().sort(asc).repeat_by([dyn int: 2]).explode()] FROM\n",
            "    STREAMING:\n",
            "      DF [\"timestamp\", \"id\", \"rating\", \"18_group\"]; PROJECT 1/16 COLUMNS; SELECTION: None\n",
            "RIGHT PLAN ON: [col(\"timestamp\")]\n",
            "  DF [\"timestamp\", \"id\", \"rating\", \"18_group\"]; PROJECT */16 COLUMNS; SELECTION: None\n",
            "END LEFT JOIN\n"
          ]
        }
      ],
      "source": [
        "repeat_n = 2\n",
        "\n",
        "repeated_df = repeat_df(initial_df, repeat_n)\n",
        "print(\"Schema\")\n",
        "print(repeated_df.explain(streaming=True, optimized=True))"
      ]
    },
    {
      "cell_type": "code",
      "execution_count": 122,
      "metadata": {
        "colab": {
          "base_uri": "https://localhost:8080/"
        },
        "id": "7geBTZI6F691",
        "outputId": "a879fc0d-e72a-4585-97a6-91d038d6cf2e"
      },
      "outputs": [
        {
          "output_type": "stream",
          "name": "stdout",
          "text": [
            "722 rows\n",
            "0.2917900085449219 mb\n"
          ]
        }
      ],
      "source": [
        "# как видим, повторы работают\n",
        "repeated_df = repeated_df.collect()\n",
        "assert repeated_df.shape[0] == initial_df.shape[0] * repeat_n\n",
        "print(repeated_df.shape[0], \"rows\")\n",
        "print(repeated_df.estimated_size(\"mb\"), \"mb\")"
      ]
    },
    {
      "cell_type": "markdown",
      "metadata": {
        "id": "00wHctZJGe8s"
      },
      "source": [
        "Теперь ещё интереснее. Если бы наш датасет был не в 2 раза больше, а в 100000 раз, что бы мы делали? К счастью для нас, поларс может уместить 300кк строк всего лишь в 512Мб, и это даже не прикол, но работать с этим придётся немного иначе"
      ]
    },
    {
      "cell_type": "code",
      "execution_count": 123,
      "metadata": {
        "colab": {
          "base_uri": "https://localhost:8080/"
        },
        "id": "jm93pikEGqJi",
        "outputId": "89d9e914-6af1-4443-8858-7cebb9f3776e"
      },
      "outputs": [
        {
          "output_type": "stream",
          "name": "stdout",
          "text": [
            "14.24793154001236 gb\n"
          ]
        }
      ],
      "source": [
        "N = 100000\n",
        "\n",
        "df = repeat_df(initial_df, N)\n",
        "print(initial_df.estimated_size(\"gb\") * N, \"gb\")"
      ]
    },
    {
      "cell_type": "markdown",
      "metadata": {
        "id": "MGMtuNEiG-xH"
      },
      "source": [
        "Поэтому даже такая тривиальная задача, как подсчёт строк становится уже не такой простой. Про это и будет дз"
      ]
    },
    {
      "cell_type": "code",
      "execution_count": 124,
      "metadata": {
        "colab": {
          "base_uri": "https://localhost:8080/"
        },
        "id": "pKo9lSvnHlgW",
        "outputId": "1faec5e7-7d52-4167-cbc8-a54236cea182"
      },
      "outputs": [
        {
          "output_type": "stream",
          "name": "stdout",
          "text": [
            "ой, не получилось...\n"
          ]
        },
        {
          "output_type": "execute_result",
          "data": {
            "text/plain": [
              "36100000"
            ]
          },
          "metadata": {},
          "execution_count": 124
        }
      ],
      "source": [
        "try:\n",
        "    print(df.shape[0], \"rows\")\n",
        "except AttributeError:\n",
        "    print(\"ой, не получилось...\")\n",
        "\n",
        "df.collect().shape[0] # тоже можно, если влезет -- влезло ^.^\n",
        "# len(df.collect().to_pandas()) # а такое может крашнуть ядро, попробуйте, хехе..."
      ]
    },
    {
      "cell_type": "code",
      "execution_count": 125,
      "metadata": {
        "colab": {
          "base_uri": "https://localhost:8080/"
        },
        "id": "mt-cWy3LHhvR",
        "outputId": "3404df26-808f-4ac7-ab8e-03e58dbb6fbb"
      },
      "outputs": [
        {
          "output_type": "stream",
          "name": "stdout",
          "text": [
            "36100000 rows\n"
          ]
        }
      ],
      "source": [
        "def lazy_len(df: pl.LazyFrame) -> int:\n",
        "    return df.select(pl.len()).collect().item()\n",
        "\n",
        "\n",
        "rows = lazy_len(df)  # намного экономнее, потому что оптимизировано под капотом\n",
        "assert rows == initial_df.shape[0] * N\n",
        "print(rows, \"rows\")"
      ]
    },
    {
      "cell_type": "markdown",
      "source": [
        "Далее нужно работать с увеличенным датафреймом `df`"
      ],
      "metadata": {
        "id": "EVEQn0fwc6_v"
      }
    },
    {
      "cell_type": "markdown",
      "metadata": {
        "id": "JZd3QSTo3JKl"
      },
      "source": [
        "#### 1. [0.5 баллов] Выведите 3 последних строки\n",
        "\n",
        "Посмотрите на данные и скажите, что они из себя представляют, сколько в таблице строк, какие столбцы? (на это не надо отвечать, просто подумайте об этом)"
      ]
    },
    {
      "cell_type": "code",
      "execution_count": 126,
      "metadata": {
        "id": "FArd5QGESdyO",
        "colab": {
          "base_uri": "https://localhost:8080/",
          "height": 316
        },
        "outputId": "15f28683-7b9e-4ef9-b213-dfaefc8cd92d"
      },
      "outputs": [
        {
          "output_type": "execute_result",
          "data": {
            "text/plain": [
              "shape: (3, 16)\n",
              "┌─────────────┬─────────────┬────────┬──────────┬───┬────────────┬──────────┬─────────┬────────────┐\n",
              "│ timestamp   ┆ id          ┆ rating ┆ 18_group ┆ … ┆ percentile ┆ 17_group ┆ blended ┆ is_ml_stud │\n",
              "│ ---         ┆ ---         ┆ ---    ┆ ---      ┆   ┆ ---        ┆ ---      ┆ ---     ┆ ent        │\n",
              "│ str         ┆ str         ┆ i64    ┆ i64      ┆   ┆ f64        ┆ str      ┆ str     ┆ ---        │\n",
              "│             ┆             ┆        ┆          ┆   ┆            ┆          ┆         ┆ bool       │\n",
              "╞═════════════╪═════════════╪════════╪══════════╪═══╪════════════╪══════════╪═════════╪════════════╡\n",
              "│ 2020-05-24  ┆ 9d19b0d5f4f ┆ 695    ┆ 188      ┆ … ┆ 0.197309   ┆ null     ┆ null    ┆ null       │\n",
              "│ 01:23:31    ┆ c8d7edc2258 ┆        ┆          ┆   ┆            ┆          ┆         ┆            │\n",
              "│             ┆ 406f872c…   ┆        ┆          ┆   ┆            ┆          ┆         ┆            │\n",
              "│ 2020-05-24  ┆ 9d19b0d5f4f ┆ 695    ┆ 188      ┆ … ┆ 0.197309   ┆ null     ┆ null    ┆ null       │\n",
              "│ 01:23:31    ┆ c8d7edc2258 ┆        ┆          ┆   ┆            ┆          ┆         ┆            │\n",
              "│             ┆ 406f872c…   ┆        ┆          ┆   ┆            ┆          ┆         ┆            │\n",
              "│ 2020-05-24  ┆ 9d19b0d5f4f ┆ 695    ┆ 188      ┆ … ┆ 0.197309   ┆ null     ┆ null    ┆ null       │\n",
              "│ 01:23:31    ┆ c8d7edc2258 ┆        ┆          ┆   ┆            ┆          ┆         ┆            │\n",
              "│             ┆ 406f872c…   ┆        ┆          ┆   ┆            ┆          ┆         ┆            │\n",
              "└─────────────┴─────────────┴────────┴──────────┴───┴────────────┴──────────┴─────────┴────────────┘"
            ],
            "text/html": [
              "<div><style>\n",
              ".dataframe > thead > tr,\n",
              ".dataframe > tbody > tr {\n",
              "  text-align: right;\n",
              "  white-space: pre-wrap;\n",
              "}\n",
              "</style>\n",
              "<small>shape: (3, 16)</small><table border=\"1\" class=\"dataframe\"><thead><tr><th>timestamp</th><th>id</th><th>rating</th><th>18_group</th><th>is_mi</th><th>fall_1</th><th>fall_2</th><th>fall_3</th><th>spring_1</th><th>spring_2</th><th>spring_3</th><th>is_first_time</th><th>percentile</th><th>17_group</th><th>blended</th><th>is_ml_student</th></tr><tr><td>str</td><td>str</td><td>i64</td><td>i64</td><td>i64</td><td>str</td><td>str</td><td>str</td><td>str</td><td>str</td><td>str</td><td>str</td><td>f64</td><td>str</td><td>str</td><td>bool</td></tr></thead><tbody><tr><td>&quot;2020-05-24 01:23:31&quot;</td><td>&quot;9d19b0d5f4fc8d7edc2258406f872c…</td><td>695</td><td>188</td><td>null</td><td>&quot;Безопасность компьютерных сист…</td><td>&quot;Язык SQL&quot;</td><td>&quot;Высокопроизводительные вычисле…</td><td>&quot;Компьютерные сети&quot;</td><td>&quot;Дискретная оптимизация&quot;</td><td>&quot;Численные методы&quot;</td><td>null</td><td>0.197309</td><td>null</td><td>null</td><td>null</td></tr><tr><td>&quot;2020-05-24 01:23:31&quot;</td><td>&quot;9d19b0d5f4fc8d7edc2258406f872c…</td><td>695</td><td>188</td><td>null</td><td>&quot;Безопасность компьютерных сист…</td><td>&quot;Язык SQL&quot;</td><td>&quot;Высокопроизводительные вычисле…</td><td>&quot;Компьютерные сети&quot;</td><td>&quot;Дискретная оптимизация&quot;</td><td>&quot;Численные методы&quot;</td><td>null</td><td>0.197309</td><td>null</td><td>null</td><td>null</td></tr><tr><td>&quot;2020-05-24 01:23:31&quot;</td><td>&quot;9d19b0d5f4fc8d7edc2258406f872c…</td><td>695</td><td>188</td><td>null</td><td>&quot;Безопасность компьютерных сист…</td><td>&quot;Язык SQL&quot;</td><td>&quot;Высокопроизводительные вычисле…</td><td>&quot;Компьютерные сети&quot;</td><td>&quot;Дискретная оптимизация&quot;</td><td>&quot;Численные методы&quot;</td><td>null</td><td>0.197309</td><td>null</td><td>null</td><td>null</td></tr></tbody></table></div>"
            ]
          },
          "metadata": {},
          "execution_count": 126
        }
      ],
      "source": [
        "df.lazy().tail(3).collect()"
      ]
    },
    {
      "cell_type": "markdown",
      "metadata": {
        "id": "o74LHRbU3JKl"
      },
      "source": [
        "### Ответьте на вопросы:\n",
        "1. Сколько было уникальных пользователей из групп 18-го года набора, а сколько из групп 17-го года?"
      ]
    },
    {
      "cell_type": "code",
      "execution_count": 127,
      "metadata": {
        "id": "P8U67LmG3JKm",
        "colab": {
          "base_uri": "https://localhost:8080/"
        },
        "outputId": "2b10679b-b8f4-439e-84a9-3c90f03d05cc"
      },
      "outputs": [
        {
          "output_type": "stream",
          "name": "stdout",
          "text": [
            "Из групп 17 набора:  134\n",
            "Из групп 18 набора:  213\n"
          ]
        }
      ],
      "source": [
        "print('Из групп 17 набора: ', df.lazy().filter(pl.col(\"17_group\").is_not_null()).select(\"id\").unique().count().collect()[0, 0])\n",
        "\n",
        "print('Из групп 18 набора: ', df.lazy().filter(pl.col(\"18_group\").is_not_null()).select(\"id\").unique().count().collect()[0, 0])"
      ]
    },
    {
      "cell_type": "markdown",
      "source": [
        "2. Есть ли уникальные студенты с равными перцентилями?"
      ],
      "metadata": {
        "id": "nKYih84LTNfe"
      }
    },
    {
      "cell_type": "code",
      "execution_count": 128,
      "metadata": {
        "id": "VlZxsjoO9964",
        "colab": {
          "base_uri": "https://localhost:8080/"
        },
        "outputId": "26959d92-6d32-4801-f7fb-17bab114c489"
      },
      "outputs": [
        {
          "output_type": "stream",
          "name": "stdout",
          "text": [
            "Всего уникальных студентов:  347\n",
            "Всего уникальных перцентилей:  346\n"
          ]
        }
      ],
      "source": [
        "print('Всего уникальных студентов: ', df.lazy().select(\"id\").unique().count().collect()[0, 0])\n",
        "print('Всего уникальных перцентилей: ', df.lazy().select(\"percentile\").unique().count().collect()[0, 0])\n",
        "# Т.к. перцентилей 346, а студентов 347, то есть два студента с одним перцентилем"
      ]
    },
    {
      "cell_type": "markdown",
      "metadata": {
        "id": "PObB1agk3JKm"
      },
      "source": [
        "#### 2. [0.5 балла] Есть ли в данных пропуски? В каких колонках? Сколько их в каждой из этих колонок?\n",
        "\n",
        "Уникальных или нет - не столь важно"
      ]
    },
    {
      "cell_type": "code",
      "execution_count": 129,
      "metadata": {
        "id": "zmMJ5oSi3JKm",
        "colab": {
          "base_uri": "https://localhost:8080/",
          "height": 185
        },
        "outputId": "2cc0f889-7770-42ff-d453-7b4f7c441d42"
      },
      "outputs": [
        {
          "output_type": "stream",
          "name": "stderr",
          "text": [
            "<ipython-input-129-16eb36cfb922>:1: PerformanceWarning: Determining the column names of a LazyFrame requires resolving its schema, which is a potentially expensive operation. Use `LazyFrame.collect_schema().names()` to get the column names without this warning.\n",
            "  df.lazy().select([pl.col(column).is_null().sum().alias(column) for column in df.columns]).collect()\n"
          ]
        },
        {
          "output_type": "execute_result",
          "data": {
            "text/plain": [
              "shape: (1, 16)\n",
              "┌───────────┬─────┬────────┬──────────┬───┬────────────┬──────────┬──────────┬───────────────┐\n",
              "│ timestamp ┆ id  ┆ rating ┆ 18_group ┆ … ┆ percentile ┆ 17_group ┆ blended  ┆ is_ml_student │\n",
              "│ ---       ┆ --- ┆ ---    ┆ ---      ┆   ┆ ---        ┆ ---      ┆ ---      ┆ ---           │\n",
              "│ u32       ┆ u32 ┆ u32    ┆ u32      ┆   ┆ u32        ┆ u32      ┆ u32      ┆ u32           │\n",
              "╞═══════════╪═════╪════════╪══════════╪═══╪════════════╪══════════╪══════════╪═══════════════╡\n",
              "│ 0         ┆ 0   ┆ 0      ┆ 13800000 ┆ … ┆ 0          ┆ 22300000 ┆ 22300000 ┆ 30400000      │\n",
              "└───────────┴─────┴────────┴──────────┴───┴────────────┴──────────┴──────────┴───────────────┘"
            ],
            "text/html": [
              "<div><style>\n",
              ".dataframe > thead > tr,\n",
              ".dataframe > tbody > tr {\n",
              "  text-align: right;\n",
              "  white-space: pre-wrap;\n",
              "}\n",
              "</style>\n",
              "<small>shape: (1, 16)</small><table border=\"1\" class=\"dataframe\"><thead><tr><th>timestamp</th><th>id</th><th>rating</th><th>18_group</th><th>is_mi</th><th>fall_1</th><th>fall_2</th><th>fall_3</th><th>spring_1</th><th>spring_2</th><th>spring_3</th><th>is_first_time</th><th>percentile</th><th>17_group</th><th>blended</th><th>is_ml_student</th></tr><tr><td>u32</td><td>u32</td><td>u32</td><td>u32</td><td>u32</td><td>u32</td><td>u32</td><td>u32</td><td>u32</td><td>u32</td><td>u32</td><td>u32</td><td>u32</td><td>u32</td><td>u32</td><td>u32</td></tr></thead><tbody><tr><td>0</td><td>0</td><td>0</td><td>13800000</td><td>34300000</td><td>0</td><td>0</td><td>0</td><td>0</td><td>0</td><td>0</td><td>200000</td><td>0</td><td>22300000</td><td>22300000</td><td>30400000</td></tr></tbody></table></div>"
            ]
          },
          "metadata": {},
          "execution_count": 129
        }
      ],
      "source": [
        "df.lazy().select([pl.col(column).is_null().sum().alias(column) for column in df.columns]).collect()\n",
        "# Видим, что есть много null значений в столбцах с флагами (лучше бы были 0)"
      ]
    },
    {
      "cell_type": "markdown",
      "metadata": {
        "id": "H0gva-uD3JKm"
      },
      "source": [
        "🔄 Преобразуйте датасет - заполните пропуски пустой строкой для строковых колонок, нулём для числовых и False для булевых (постарайтесь избежать перечисления названий всех столбцов)."
      ]
    },
    {
      "cell_type": "code",
      "execution_count": 130,
      "metadata": {
        "id": "1WOBP3Yx3JKm",
        "colab": {
          "base_uri": "https://localhost:8080/"
        },
        "outputId": "6d40cef0-b818-4138-84d4-b0dca7e3614b"
      },
      "outputs": [
        {
          "output_type": "stream",
          "name": "stderr",
          "text": [
            "<ipython-input-130-33c63fe18242>:8: PerformanceWarning: Determining the column names of a LazyFrame requires resolving its schema, which is a potentially expensive operation. Use `LazyFrame.collect_schema().names()` to get the column names without this warning.\n",
            "  for col in df.columns\n",
            "<ipython-input-130-33c63fe18242>:4: PerformanceWarning: Resolving the schema of a LazyFrame is a potentially expensive operation. Use `LazyFrame.collect_schema()` to get the schema without this warning.\n",
            "  pl.lit(\"\") if df.schema[col] == pl.Utf8 else\n",
            "<ipython-input-130-33c63fe18242>:5: PerformanceWarning: Resolving the schema of a LazyFrame is a potentially expensive operation. Use `LazyFrame.collect_schema()` to get the schema without this warning.\n",
            "  pl.lit(0) if df.schema[col] in (pl.Int32, pl.Int64) else\n"
          ]
        }
      ],
      "source": [
        "df = df.lazy().select(\n",
        "    [\n",
        "        pl.col(col).fill_null(\n",
        "            pl.lit(\"\") if df.schema[col] == pl.Utf8 else\n",
        "            pl.lit(0) if df.schema[col] in (pl.Int32, pl.Int64) else\n",
        "            pl.lit(False)\n",
        "        ).alias(col)\n",
        "        for col in df.columns\n",
        "    ]\n",
        ").collect()"
      ]
    },
    {
      "cell_type": "markdown",
      "metadata": {
        "id": "a0TfG6CY3JKn"
      },
      "source": [
        "#### 3. [0.5 балла] Посмотрите повнимательнее на колонку 'is_first_time'.\n",
        "\n",
        "Каково процентное соотношение ответов? Сколько из них \"Нет\"?"
      ]
    },
    {
      "cell_type": "code",
      "execution_count": 131,
      "metadata": {
        "id": "wGolS2eY3JKn",
        "colab": {
          "base_uri": "https://localhost:8080/"
        },
        "outputId": "a2d3a900-4c26-4294-ae6e-faa74d7f2edf"
      },
      "outputs": [
        {
          "output_type": "stream",
          "name": "stdout",
          "text": [
            "Всего разных ответов:  3\n",
            "Ответов \"нет\":  5100000\n",
            "Ответов \"да\":  30800000\n",
            "Доля ответов \"нет\":  0.14127423822714683\n",
            "Доля ответов \"да\":  0.853185595567867\n"
          ]
        }
      ],
      "source": [
        "print('Всего разных ответов: ', df.lazy().select(\"is_first_time\").unique().count().collect()[0, 0])\n",
        "print('Ответов \"нет\": ', df.lazy().filter(pl.col(\"is_first_time\") == 'Нет').select(\"is_first_time\").count().collect()[0, 0])\n",
        "print('Ответов \"да\": ', df.lazy().filter(pl.col(\"is_first_time\") == 'Да').select(\"is_first_time\").count().collect()[0, 0])\n",
        "print('Доля ответов \"нет\": ', df.lazy().filter(pl.col(\"is_first_time\") == 'Нет').select(\"is_first_time\").count().collect()[0, 0] / df.lazy().select(\"is_first_time\").count().collect()[0, 0])\n",
        "print('Доля ответов \"да\": ', df.lazy().filter(pl.col(\"is_first_time\") == 'Да').select(\"is_first_time\").count().collect()[0, 0] / df.lazy().select(\"is_first_time\").count().collect()[0, 0])"
      ]
    },
    {
      "cell_type": "markdown",
      "source": [
        "*Посмотрите* на колонку `timestamp` - верно ли, что датафрейм отсортирован по ней?"
      ],
      "metadata": {
        "id": "Renqf_mqekiQ"
      }
    },
    {
      "cell_type": "code",
      "source": [
        "df.lazy().with_columns(\n",
        "        pl.col(\"timestamp\").str.strptime(pl.Datetime, \"%Y-%m-%d %H:%M:%S\").alias(\"parsed_timestamp\")).select(\n",
        "        (pl.col(\"parsed_timestamp\") == pl.col(\"parsed_timestamp\").sort()).alias(\"is_sorted\")).unique().collect()"
      ],
      "metadata": {
        "id": "pxDzAdErerlx",
        "colab": {
          "base_uri": "https://localhost:8080/",
          "height": 129
        },
        "outputId": "12281a40-2a3f-482a-cc15-659106edadbe"
      },
      "execution_count": 132,
      "outputs": [
        {
          "output_type": "execute_result",
          "data": {
            "text/plain": [
              "shape: (1, 1)\n",
              "┌───────────┐\n",
              "│ is_sorted │\n",
              "│ ---       │\n",
              "│ bool      │\n",
              "╞═══════════╡\n",
              "│ true      │\n",
              "└───────────┘"
            ],
            "text/html": [
              "<div><style>\n",
              ".dataframe > thead > tr,\n",
              ".dataframe > tbody > tr {\n",
              "  text-align: right;\n",
              "  white-space: pre-wrap;\n",
              "}\n",
              "</style>\n",
              "<small>shape: (1, 1)</small><table border=\"1\" class=\"dataframe\"><thead><tr><th>is_sorted</th></tr><tr><td>bool</td></tr></thead><tbody><tr><td>true</td></tr></tbody></table></div>"
            ]
          },
          "metadata": {},
          "execution_count": 132
        }
      ]
    },
    {
      "cell_type": "markdown",
      "metadata": {
        "id": "ffyqq0ilf0pv"
      },
      "source": [
        "🔄 Оставьте только самую позднюю версию обращений студентов и сохраните изменения. Дубли оставлять тоже не нужно"
      ]
    },
    {
      "cell_type": "code",
      "execution_count": 133,
      "metadata": {
        "id": "kIgPHwvOA0tg",
        "colab": {
          "base_uri": "https://localhost:8080/",
          "height": 466
        },
        "outputId": "73114e92-e4ab-4701-a9ec-eb58f05fe0e2"
      },
      "outputs": [
        {
          "output_type": "execute_result",
          "data": {
            "text/plain": [
              "shape: (5, 16)\n",
              "┌────────────┬────────────┬────────┬──────────┬───┬────────────┬──────────┬────────────┬───────────┐\n",
              "│ id         ┆ timestamp  ┆ rating ┆ 18_group ┆ … ┆ percentile ┆ 17_group ┆ blended    ┆ is_ml_stu │\n",
              "│ ---        ┆ ---        ┆ ---    ┆ ---      ┆   ┆ ---        ┆ ---      ┆ ---        ┆ dent      │\n",
              "│ str        ┆ str        ┆ i64    ┆ i64      ┆   ┆ f64        ┆ str      ┆ str        ┆ ---       │\n",
              "│            ┆            ┆        ┆          ┆   ┆            ┆          ┆            ┆ bool      │\n",
              "╞════════════╪════════════╪════════╪══════════╪═══╪════════════╪══════════╪════════════╪═══════════╡\n",
              "│ 2c0a8cb666 ┆ 2020-05-18 ┆ 1107   ┆ 0        ┆ … ┆ 0.666667   ┆ 172      ┆ Соревноват ┆ false     │\n",
              "│ 2b9a0a0a5d ┆ 23:58:07   ┆        ┆          ┆   ┆            ┆          ┆ ельный     ┆           │\n",
              "│ 2d12144427 ┆            ┆        ┆          ┆   ┆            ┆          ┆ анализ     ┆           │\n",
              "│ …          ┆            ┆        ┆          ┆   ┆            ┆          ┆ данных     ┆           │\n",
              "│ 4d7035f3a6 ┆ 2020-05-19 ┆ 621    ┆ 181      ┆ … ┆ 0.55157    ┆          ┆            ┆ false     │\n",
              "│ d0c55c4fbc ┆ 18:12:01   ┆        ┆          ┆   ┆            ┆          ┆            ┆           │\n",
              "│ f403167954 ┆            ┆        ┆          ┆   ┆            ┆          ┆            ┆           │\n",
              "│ …          ┆            ┆        ┆          ┆   ┆            ┆          ┆            ┆           │\n",
              "│ 3eb1a783e5 ┆ 2020-05-18 ┆ 1196   ┆ 0        ┆ … ┆ 0.362319   ┆ 176      ┆ DevOps     ┆ false     │\n",
              "│ 5b0dd8bd2f ┆ 22:11:52   ┆        ┆          ┆   ┆            ┆          ┆            ┆           │\n",
              "│ a69eeeeecd ┆            ┆        ┆          ┆   ┆            ┆          ┆            ┆           │\n",
              "│ …          ┆            ┆        ┆          ┆   ┆            ┆          ┆            ┆           │\n",
              "│ ce2a9120d5 ┆ 2020-05-18 ┆ 1100   ┆ 0        ┆ … ┆ 0.702899   ┆ 173      ┆ Соревноват ┆ false     │\n",
              "│ 581dcd8bd0 ┆ 11:19:43   ┆        ┆          ┆   ┆            ┆          ┆ ельный     ┆           │\n",
              "│ d6252918c9 ┆            ┆        ┆          ┆   ┆            ┆          ┆ анализ     ┆           │\n",
              "│ …          ┆            ┆        ┆          ┆   ┆            ┆          ┆ данных     ┆           │\n",
              "│ bf24738793 ┆ 2020-05-18 ┆ 693    ┆ 184      ┆ … ┆ 0.210762   ┆          ┆            ┆ true      │\n",
              "│ f54467434a ┆ 19:08:20   ┆        ┆          ┆   ┆            ┆          ┆            ┆           │\n",
              "│ d78be13a42 ┆            ┆        ┆          ┆   ┆            ┆          ┆            ┆           │\n",
              "│ …          ┆            ┆        ┆          ┆   ┆            ┆          ┆            ┆           │\n",
              "└────────────┴────────────┴────────┴──────────┴───┴────────────┴──────────┴────────────┴───────────┘"
            ],
            "text/html": [
              "<div><style>\n",
              ".dataframe > thead > tr,\n",
              ".dataframe > tbody > tr {\n",
              "  text-align: right;\n",
              "  white-space: pre-wrap;\n",
              "}\n",
              "</style>\n",
              "<small>shape: (5, 16)</small><table border=\"1\" class=\"dataframe\"><thead><tr><th>id</th><th>timestamp</th><th>rating</th><th>18_group</th><th>is_mi</th><th>fall_1</th><th>fall_2</th><th>fall_3</th><th>spring_1</th><th>spring_2</th><th>spring_3</th><th>is_first_time</th><th>percentile</th><th>17_group</th><th>blended</th><th>is_ml_student</th></tr><tr><td>str</td><td>str</td><td>i64</td><td>i64</td><td>i64</td><td>str</td><td>str</td><td>str</td><td>str</td><td>str</td><td>str</td><td>str</td><td>f64</td><td>str</td><td>str</td><td>bool</td></tr></thead><tbody><tr><td>&quot;2c0a8cb6662b9a0a0a5d2d12144427…</td><td>&quot;2020-05-18 23:58:07&quot;</td><td>1107</td><td>0</td><td>0</td><td>&quot;Анализ неструктурированных дан…</td><td>&quot;Глубинное обучение в обработке…</td><td>&quot;Моделирование временных рядов&quot;</td><td>&quot;Обучение с подкреплением&quot;</td><td>&quot;Компьютерное зрение&quot;</td><td>&quot;Конфликты и кооперация&quot;</td><td>&quot;Да&quot;</td><td>0.666667</td><td>&quot;172&quot;</td><td>&quot;Соревновательный анализ данных&quot;</td><td>false</td></tr><tr><td>&quot;4d7035f3a6d0c55c4fbcf403167954…</td><td>&quot;2020-05-19 18:12:01&quot;</td><td>621</td><td>181</td><td>0</td><td>&quot;Язык SQL&quot;</td><td>&quot;Statistical Learning Theory&quot;</td><td>&quot;Высокопроизводительные вычисле…</td><td>&quot;Машинное обучение 2&quot;</td><td>&quot;Компьютерные сети&quot;</td><td>&quot;Анализ данных в бизнесе&quot;</td><td>&quot;Да&quot;</td><td>0.55157</td><td>&quot;&quot;</td><td>&quot;&quot;</td><td>false</td></tr><tr><td>&quot;3eb1a783e55b0dd8bd2fa69eeeeecd…</td><td>&quot;2020-05-18 22:11:52&quot;</td><td>1196</td><td>0</td><td>0</td><td>&quot;Высокопроизводительные вычисле…</td><td>&quot;Безопасность компьютерных сист…</td><td>&quot;Моделирование временных рядов&quot;</td><td>&quot;Проектирование и разработка вы…</td><td>&quot;Методы сжатия и передачи медиа…</td><td>&quot;Символьные вычисления&quot;</td><td>&quot;Да&quot;</td><td>0.362319</td><td>&quot;176&quot;</td><td>&quot;DevOps&quot;</td><td>false</td></tr><tr><td>&quot;ce2a9120d5581dcd8bd0d6252918c9…</td><td>&quot;2020-05-18 11:19:43&quot;</td><td>1100</td><td>0</td><td>0</td><td>&quot;Statistical Learning Theory&quot;</td><td>&quot;Моделирование временных рядов&quot;</td><td>&quot;Глубинное обучение в обработке…</td><td>&quot;Компьютерное зрение&quot;</td><td>&quot;Символьные вычисления&quot;</td><td>&quot;Методы сжатия и передачи медиа…</td><td>&quot;Да&quot;</td><td>0.702899</td><td>&quot;173&quot;</td><td>&quot;Соревновательный анализ данных&quot;</td><td>false</td></tr><tr><td>&quot;bf24738793f54467434ad78be13a42…</td><td>&quot;2020-05-18 19:08:20&quot;</td><td>693</td><td>184</td><td>0</td><td>&quot;Безопасность компьютерных сист…</td><td>&quot;Statistical Learning Theory&quot;</td><td>&quot;Матричные вычисления&quot;</td><td>&quot;Дополнительные главы прикладно…</td><td>&quot;Дискретная оптимизация&quot;</td><td>&quot;Промышленное программирование …</td><td>&quot;Да&quot;</td><td>0.210762</td><td>&quot;&quot;</td><td>&quot;&quot;</td><td>true</td></tr></tbody></table></div>"
            ]
          },
          "metadata": {},
          "execution_count": 133
        }
      ],
      "source": [
        "df = df.sort(\"timestamp\", descending = False) \\\n",
        "    .group_by(\"id\") \\\n",
        "    .agg([\n",
        "        pl.col('*').last()\n",
        "    ])\n",
        "\n",
        "df.head()"
      ]
    },
    {
      "cell_type": "markdown",
      "metadata": {
        "id": "EXTt7DAJ3JKn"
      },
      "source": [
        "#### 4. [0.5 балла] Какие  blended-курсы для четверокурсников существуют? На какой blended-курс записалось наибольшее количество студентов? На каком из курсов собрались студенты с самым высоким средним рейтингом?"
      ]
    },
    {
      "cell_type": "code",
      "execution_count": 134,
      "metadata": {
        "id": "gJ0SzAfheBBi",
        "colab": {
          "base_uri": "https://localhost:8080/",
          "height": 224
        },
        "outputId": "68ccb5c0-56ee-4f54-972b-ad00b3c620de"
      },
      "outputs": [
        {
          "output_type": "execute_result",
          "data": {
            "text/plain": [
              "shape: (4, 3)\n",
              "┌─────────────────────────────────┬────────┬─────────────┐\n",
              "│ blended                         ┆ amount ┆ mean_rating │\n",
              "│ ---                             ┆ ---    ┆ ---         │\n",
              "│ str                             ┆ u32    ┆ f64         │\n",
              "╞═════════════════════════════════╪════════╪═════════════╡\n",
              "│ Соревновательный анализ данных  ┆ 32     ┆ 1144.21875  │\n",
              "│                                 ┆ 213    ┆ 633.901408  │\n",
              "│ Введение в дифференциальную ге… ┆ 15     ┆ 1210.733333 │\n",
              "│ DevOps                          ┆ 87     ┆ 1154.172414 │\n",
              "└─────────────────────────────────┴────────┴─────────────┘"
            ],
            "text/html": [
              "<div><style>\n",
              ".dataframe > thead > tr,\n",
              ".dataframe > tbody > tr {\n",
              "  text-align: right;\n",
              "  white-space: pre-wrap;\n",
              "}\n",
              "</style>\n",
              "<small>shape: (4, 3)</small><table border=\"1\" class=\"dataframe\"><thead><tr><th>blended</th><th>amount</th><th>mean_rating</th></tr><tr><td>str</td><td>u32</td><td>f64</td></tr></thead><tbody><tr><td>&quot;Соревновательный анализ данных&quot;</td><td>32</td><td>1144.21875</td></tr><tr><td>&quot;&quot;</td><td>213</td><td>633.901408</td></tr><tr><td>&quot;Введение в дифференциальную ге…</td><td>15</td><td>1210.733333</td></tr><tr><td>&quot;DevOps&quot;</td><td>87</td><td>1154.172414</td></tr></tbody></table></div>"
            ]
          },
          "metadata": {},
          "execution_count": 134
        }
      ],
      "source": [
        "df.lazy().group_by('blended').agg(\n",
        "    [\n",
        "        pl.col('id').unique().count().alias('amount'),\n",
        "        pl.col('rating').mean().alias('mean_rating')\n",
        "    ]\n",
        ").collect()\n",
        "# Соревновательный анализ данных, ДевОпс, Введение в дифференциальную ге...\n",
        "# Больше всего людей на ДевОпсе\n",
        "# Самый высокий рейтинг на последнем из перечисленных"
      ]
    },
    {
      "cell_type": "markdown",
      "metadata": {
        "id": "afbGGxV73JKn"
      },
      "source": [
        "#### 5. [1 балл] Выясните, есть ли студенты с абсолютно одинаковыми предпочтениями по всем курсам.\n",
        "\n",
        "Для этого сформируйте таблицу, где для каждого возможного набора курсов посчитано количество студентов, выбравших такой набор, и оставьте только строки где это количество больше 1.\n",
        "\n",
        "В данном случае набор курсов задается упорядоченным множеством ('fall_1', 'fall_2', 'fall_3', 'spring_1', 'spring_2', 'spring_3', 'blended'). Элемент blended будет нулевым для 3-го курса."
      ]
    },
    {
      "cell_type": "code",
      "execution_count": 135,
      "metadata": {
        "id": "fNXhoAMw3JKn",
        "colab": {
          "base_uri": "https://localhost:8080/",
          "height": 359
        },
        "outputId": "caaea937-ba4f-4d58-9422-b66303084f81"
      },
      "outputs": [
        {
          "output_type": "execute_result",
          "data": {
            "text/plain": [
              "shape: (5, 8)\n",
              "┌────────────┬────────────┬────────────┬────────────┬────────────┬───────────┬─────────┬───────────┐\n",
              "│ fall_1     ┆ fall_2     ┆ fall_3     ┆ spring_1   ┆ spring_2   ┆ spring_3  ┆ blended ┆ student_c │\n",
              "│ ---        ┆ ---        ┆ ---        ┆ ---        ┆ ---        ┆ ---       ┆ ---     ┆ ount      │\n",
              "│ str        ┆ str        ┆ str        ┆ str        ┆ str        ┆ str       ┆ str     ┆ ---       │\n",
              "│            ┆            ┆            ┆            ┆            ┆           ┆         ┆ u32       │\n",
              "╞════════════╪════════════╪════════════╪════════════╪════════════╪═══════════╪═════════╪═══════════╡\n",
              "│ Байесовски ┆ Анализ нес ┆ Сбор и     ┆ Обучение с ┆ Компьютерн ┆ Генератив ┆ DevOps  ┆ 2         │\n",
              "│ е методы   ┆ труктуриро ┆ обработка  ┆ подкреплен ┆ ое зрение  ┆ ные       ┆         ┆           │\n",
              "│ машинного  ┆ ванных     ┆ данных с   ┆ ием        ┆            ┆ модели в  ┆         ┆           │\n",
              "│ о…         ┆ дан…       ┆ помо…      ┆            ┆            ┆ машинном… ┆         ┆           │\n",
              "│ Безопаснос ┆ Высокопрои ┆ Язык SQL   ┆ Промышленн ┆ Компьютерн ┆ Системы   ┆         ┆ 2         │\n",
              "│ ть компьют ┆ зводительн ┆            ┆ ое програм ┆ ые сети    ┆ баз       ┆         ┆           │\n",
              "│ ерных      ┆ ые         ┆            ┆ мирование  ┆            ┆ данных    ┆         ┆           │\n",
              "│ сист…      ┆ вычисле…   ┆            ┆ …          ┆            ┆           ┆         ┆           │\n",
              "│ Безопаснос ┆ Высокопрои ┆ Анализ нес ┆ Проектиров ┆ Методы     ┆ Конфликты ┆ DevOps  ┆ 2         │\n",
              "│ ть компьют ┆ зводительн ┆ труктуриро ┆ ание и     ┆ сжатия и   ┆ и коопера ┆         ┆           │\n",
              "│ ерных      ┆ ые         ┆ ванных     ┆ разработка ┆ передачи   ┆ ция       ┆         ┆           │\n",
              "│ сист…      ┆ вычисле…   ┆ дан…       ┆ вы…        ┆ медиа…     ┆           ┆         ┆           │\n",
              "│ Безопаснос ┆ Высокопрои ┆ Язык SQL   ┆ Компьютерн ┆ Промышленн ┆ Дискретна ┆         ┆ 3         │\n",
              "│ ть компьют ┆ зводительн ┆            ┆ ые сети    ┆ ое програм ┆ я оптимиз ┆         ┆           │\n",
              "│ ерных      ┆ ые         ┆            ┆            ┆ мирование  ┆ ация      ┆         ┆           │\n",
              "│ сист…      ┆ вычисле…   ┆            ┆            ┆ …          ┆           ┆         ┆           │\n",
              "│ Безопаснос ┆ Statistica ┆ Матричные  ┆ Дискретная ┆ Промышленн ┆ Дополните ┆         ┆ 3         │\n",
              "│ ть компьют ┆ l Learning ┆ вычисления ┆ оптимизаци ┆ ое програм ┆ льные     ┆         ┆           │\n",
              "│ ерных      ┆ Theory     ┆            ┆ я          ┆ мирование  ┆ главы при ┆         ┆           │\n",
              "│ сист…      ┆            ┆            ┆            ┆ …          ┆ кладно…   ┆         ┆           │\n",
              "└────────────┴────────────┴────────────┴────────────┴────────────┴───────────┴─────────┴───────────┘"
            ],
            "text/html": [
              "<div><style>\n",
              ".dataframe > thead > tr,\n",
              ".dataframe > tbody > tr {\n",
              "  text-align: right;\n",
              "  white-space: pre-wrap;\n",
              "}\n",
              "</style>\n",
              "<small>shape: (5, 8)</small><table border=\"1\" class=\"dataframe\"><thead><tr><th>fall_1</th><th>fall_2</th><th>fall_3</th><th>spring_1</th><th>spring_2</th><th>spring_3</th><th>blended</th><th>student_count</th></tr><tr><td>str</td><td>str</td><td>str</td><td>str</td><td>str</td><td>str</td><td>str</td><td>u32</td></tr></thead><tbody><tr><td>&quot;Байесовские методы машинного о…</td><td>&quot;Анализ неструктурированных дан…</td><td>&quot;Сбор и обработка данных с помо…</td><td>&quot;Обучение с подкреплением&quot;</td><td>&quot;Компьютерное зрение&quot;</td><td>&quot;Генеративные модели в машинном…</td><td>&quot;DevOps&quot;</td><td>2</td></tr><tr><td>&quot;Безопасность компьютерных сист…</td><td>&quot;Высокопроизводительные вычисле…</td><td>&quot;Язык SQL&quot;</td><td>&quot;Промышленное программирование …</td><td>&quot;Компьютерные сети&quot;</td><td>&quot;Системы баз данных&quot;</td><td>&quot;&quot;</td><td>2</td></tr><tr><td>&quot;Безопасность компьютерных сист…</td><td>&quot;Высокопроизводительные вычисле…</td><td>&quot;Анализ неструктурированных дан…</td><td>&quot;Проектирование и разработка вы…</td><td>&quot;Методы сжатия и передачи медиа…</td><td>&quot;Конфликты и кооперация&quot;</td><td>&quot;DevOps&quot;</td><td>2</td></tr><tr><td>&quot;Безопасность компьютерных сист…</td><td>&quot;Высокопроизводительные вычисле…</td><td>&quot;Язык SQL&quot;</td><td>&quot;Компьютерные сети&quot;</td><td>&quot;Промышленное программирование …</td><td>&quot;Дискретная оптимизация&quot;</td><td>&quot;&quot;</td><td>3</td></tr><tr><td>&quot;Безопасность компьютерных сист…</td><td>&quot;Statistical Learning Theory&quot;</td><td>&quot;Матричные вычисления&quot;</td><td>&quot;Дискретная оптимизация&quot;</td><td>&quot;Промышленное программирование …</td><td>&quot;Дополнительные главы прикладно…</td><td>&quot;&quot;</td><td>3</td></tr></tbody></table></div>"
            ]
          },
          "metadata": {},
          "execution_count": 135
        }
      ],
      "source": [
        "df.lazy().group_by(['fall_1', 'fall_2', 'fall_3', 'spring_1', 'spring_2', 'spring_3', 'blended']).agg([\n",
        "    pl.col('id').count().alias('student_count')]).filter(pl.col('student_count') > 1).sort('student_count').tail(5).collect()"
      ]
    },
    {
      "cell_type": "markdown",
      "metadata": {
        "id": "JU0vq96o3JKo"
      },
      "source": [
        "#### 6. [0.5 балла] Найдите курсы по выбору, на которые записывались как студенты 18-го года набора, так и студенты 17-го года."
      ]
    },
    {
      "cell_type": "code",
      "execution_count": 136,
      "metadata": {
        "id": "xIrynPwgesQU",
        "colab": {
          "base_uri": "https://localhost:8080/",
          "height": 606
        },
        "outputId": "b9291c47-607f-4c8b-89f4-bc437b694b97"
      },
      "outputs": [
        {
          "output_type": "stream",
          "name": "stderr",
          "text": [
            "<ipython-input-136-53e727d229fc>:1: DeprecationWarning: `LazyFrame.melt` is deprecated. Use `unpivot` instead, with `index` instead of `id_vars` and `on` instead of `value_vars`\n",
            "  fall18 = df.lazy().filter(pl.col(\"18_group\").str.contains(r\"\\S+\")).select(pl.col(\"fall_1\").unique(), pl.col(\"fall_2\").unique(), pl.col(\"fall_3\").unique()\n",
            "<ipython-input-136-53e727d229fc>:4: DeprecationWarning: `LazyFrame.melt` is deprecated. Use `unpivot` instead, with `index` instead of `id_vars` and `on` instead of `value_vars`\n",
            "  fall17 = df.lazy().filter(pl.col(\"17_group\").str.contains(r\"\\S+\")).select(pl.col(\"fall_1\").unique(), pl.col(\"fall_2\").unique(), pl.col(\"fall_3\").unique()\n",
            "<ipython-input-136-53e727d229fc>:7: DeprecationWarning: `LazyFrame.melt` is deprecated. Use `unpivot` instead, with `index` instead of `id_vars` and `on` instead of `value_vars`\n",
            "  spring18 = df.lazy().filter(pl.col(\"18_group\").str.contains(r\"\\S+\")).select(pl.col(\"spring_1\").unique(), pl.col(\"spring_2\").unique(), pl.col(\"spring_3\").unique()\n",
            "<ipython-input-136-53e727d229fc>:10: DeprecationWarning: `LazyFrame.melt` is deprecated. Use `unpivot` instead, with `index` instead of `id_vars` and `on` instead of `value_vars`\n",
            "  spring17 = df.lazy().filter(pl.col(\"17_group\").str.contains(r\"\\S+\")).select(pl.col(\"spring_1\").unique(), pl.col(\"spring_2\").unique(), pl.col(\"spring_3\").unique()\n"
          ]
        },
        {
          "output_type": "execute_result",
          "data": {
            "text/plain": [
              "shape: (17, 1)\n",
              "┌─────────────────────────────────┐\n",
              "│ course                          │\n",
              "│ ---                             │\n",
              "│ str                             │\n",
              "╞═════════════════════════════════╡\n",
              "│ Безопасность компьютерных сист… │\n",
              "│ Анализ неструктурированных дан… │\n",
              "│ Моделирование временных рядов   │\n",
              "│ Генеративные модели в машинном… │\n",
              "│ Байесовские методы машинного о… │\n",
              "│ …                               │\n",
              "│ Сбор и обработка данных с помо… │\n",
              "│ Символьные вычисления           │\n",
              "│ Компьютерное зрение             │\n",
              "│ Statistical Learning Theory     │\n",
              "│ Конфликты и кооперация          │\n",
              "└─────────────────────────────────┘"
            ],
            "text/html": [
              "<div><style>\n",
              ".dataframe > thead > tr,\n",
              ".dataframe > tbody > tr {\n",
              "  text-align: right;\n",
              "  white-space: pre-wrap;\n",
              "}\n",
              "</style>\n",
              "<small>shape: (17, 1)</small><table border=\"1\" class=\"dataframe\"><thead><tr><th>course</th></tr><tr><td>str</td></tr></thead><tbody><tr><td>&quot;Безопасность компьютерных сист…</td></tr><tr><td>&quot;Анализ неструктурированных дан…</td></tr><tr><td>&quot;Моделирование временных рядов&quot;</td></tr><tr><td>&quot;Генеративные модели в машинном…</td></tr><tr><td>&quot;Байесовские методы машинного о…</td></tr><tr><td>&hellip;</td></tr><tr><td>&quot;Сбор и обработка данных с помо…</td></tr><tr><td>&quot;Символьные вычисления&quot;</td></tr><tr><td>&quot;Компьютерное зрение&quot;</td></tr><tr><td>&quot;Statistical Learning Theory&quot;</td></tr><tr><td>&quot;Конфликты и кооперация&quot;</td></tr></tbody></table></div>"
            ]
          },
          "metadata": {},
          "execution_count": 136
        }
      ],
      "source": [
        "fall18 = df.lazy().filter(pl.col(\"18_group\").str.contains(r\"\\S+\")).select(pl.col(\"fall_1\").unique(), pl.col(\"fall_2\").unique(), pl.col(\"fall_3\").unique()\n",
        ").melt(id_vars=[], value_vars=[\"fall_1\", \"fall_2\", \"fall_3\"]).drop(\"variable\").unique().rename({\"value\": \"course\"})\n",
        "fall17 = df.lazy().filter(pl.col(\"17_group\").str.contains(r\"\\S+\")).select(pl.col(\"fall_1\").unique(), pl.col(\"fall_2\").unique(), pl.col(\"fall_3\").unique()\n",
        ").melt(id_vars=[], value_vars=[\"fall_1\", \"fall_2\", \"fall_3\"]).drop(\"variable\").unique().rename({\"value\": \"course\"})\n",
        "spring18 = df.lazy().filter(pl.col(\"18_group\").str.contains(r\"\\S+\")).select(pl.col(\"spring_1\").unique(), pl.col(\"spring_2\").unique(), pl.col(\"spring_3\").unique()\n",
        ").melt(id_vars=[], value_vars=[\"spring_1\", \"spring_2\", \"spring_3\"]).drop(\"variable\").unique().rename({\"value\": \"course\"})\n",
        "spring17 = df.lazy().filter(pl.col(\"17_group\").str.contains(r\"\\S+\")).select(pl.col(\"spring_1\").unique(), pl.col(\"spring_2\").unique(), pl.col(\"spring_3\").unique()\n",
        ").melt(id_vars=[], value_vars=[\"spring_1\", \"spring_2\", \"spring_3\"]).drop(\"variable\").unique().rename({\"value\": \"course\"})\n",
        "\n",
        "fall_total = fall18.lazy().join(fall17, on=\"course\", how=\"inner\").select(\"course\")\n",
        "spring_total = spring18.lazy().join(spring17, on=\"course\", how=\"inner\").select(\"course\")\n",
        "\n",
        "pl.concat([fall_total, spring_total]).unique().collect()"
      ]
    },
    {
      "cell_type": "markdown",
      "metadata": {
        "id": "NMkajSaI3JKr"
      },
      "source": [
        "Методом исключения найдите курсы, которые предлагались только студентам 18-го года и только студентам 17-го года."
      ]
    },
    {
      "cell_type": "code",
      "execution_count": 137,
      "metadata": {
        "id": "enzNaFLP3JKs",
        "colab": {
          "base_uri": "https://localhost:8080/",
          "height": 447
        },
        "outputId": "2d685ae1-1231-4312-ac75-6f389c0af516"
      },
      "outputs": [
        {
          "output_type": "stream",
          "name": "stdout",
          "text": [
            "Курсы только для 17 года\n",
            "Курсы только для 18 года\n"
          ]
        },
        {
          "output_type": "execute_result",
          "data": {
            "text/plain": [
              "shape: (10, 1)\n",
              "┌─────────────────────────────────┐\n",
              "│ course                          │\n",
              "│ ---                             │\n",
              "│ str                             │\n",
              "╞═════════════════════════════════╡\n",
              "│ Системы баз данных              │\n",
              "│ Дополнительные главы прикладно… │\n",
              "│ Промышленное программирование … │\n",
              "│ Теория баз данных               │\n",
              "│ Машинное обучение 2             │\n",
              "│ Матричные вычисления            │\n",
              "│ Язык SQL                        │\n",
              "│ Анализ данных в бизнесе         │\n",
              "│ Дискретная оптимизация          │\n",
              "│ Компьютерные сети               │\n",
              "└─────────────────────────────────┘"
            ],
            "text/html": [
              "<div><style>\n",
              ".dataframe > thead > tr,\n",
              ".dataframe > tbody > tr {\n",
              "  text-align: right;\n",
              "  white-space: pre-wrap;\n",
              "}\n",
              "</style>\n",
              "<small>shape: (10, 1)</small><table border=\"1\" class=\"dataframe\"><thead><tr><th>course</th></tr><tr><td>str</td></tr></thead><tbody><tr><td>&quot;Системы баз данных&quot;</td></tr><tr><td>&quot;Дополнительные главы прикладно…</td></tr><tr><td>&quot;Промышленное программирование …</td></tr><tr><td>&quot;Теория баз данных&quot;</td></tr><tr><td>&quot;Машинное обучение 2&quot;</td></tr><tr><td>&quot;Матричные вычисления&quot;</td></tr><tr><td>&quot;Язык SQL&quot;</td></tr><tr><td>&quot;Анализ данных в бизнесе&quot;</td></tr><tr><td>&quot;Дискретная оптимизация&quot;</td></tr><tr><td>&quot;Компьютерные сети&quot;</td></tr></tbody></table></div>"
            ]
          },
          "metadata": {},
          "execution_count": 137
        }
      ],
      "source": [
        "total18 = pl.concat([fall18, spring18]).unique()\n",
        "total17 = pl.concat([fall17, spring17]).unique()\n",
        "print(\"Курсы только для 17 года\")\n",
        "total17.lazy().join(total18, on=\"course\", how=\"anti\").unique().collect()\n",
        "print(\"Курсы только для 18 года\")\n",
        "total18.lazy().join(total17, on=\"course\", how=\"anti\").unique().collect()"
      ]
    },
    {
      "cell_type": "markdown",
      "metadata": {
        "id": "c5TmcNdI3JKs"
      },
      "source": [
        "### Визуализации"
      ]
    },
    {
      "cell_type": "markdown",
      "metadata": {
        "id": "74juA0bp3JKs"
      },
      "source": [
        "При работе с данными часто неудобно делать какие-то выводы, если смотреть на таблицу и числа в частности, поэтому важно уметь визуализировать данные. Здесь будут описаны ключевые правила оформления графиков для **всех** домашних заданий.\n",
        "\n",
        "У matplotlib, конечно же, есть [документация](https://matplotlib.org/users/index.html) с большим количеством [примеров](https://matplotlib.org/examples/), но для начала достаточно знать про несколько основных типов графиков:\n",
        "- plot — обычный поточечный график, которым можно изображать кривые или отдельные точки;\n",
        "- hist — гистограмма, показывающая распределение некоторой величины;\n",
        "- scatter — график, показывающий взаимосвязь двух величин;\n",
        "- bar — столбцовый график, показывающий взаимосвязь количественной величины от категориальной.\n",
        "\n",
        "В этом задании вы попробуете построить один из них. Не забывайте про базовые принципы построения приличных графиков:\n",
        "- оси должны быть подписаны, причём не слишком мелко;\n",
        "- у графика должно быть название;\n",
        "- если изображено несколько графиков, то необходима поясняющая легенда;\n",
        "- все линии на графиках должны быть чётко видны (нет похожих цветов или цветов, сливающихся с фоном);\n",
        "- если возможно сделать график интерактивным, это обычно того стоит - помогает решить проблемы с читаемостью;\n",
        "- если отображена величина, имеющая очевидный диапазон значений (например, проценты могут быть от 0 до 100), то желательно масштабировать ось на весь диапазон значений (исключением является случай, когда вам необходимо показать малое отличие, которое незаметно в таких масштабах);\n",
        "- сетка на графике помогает оценить значения в точках на глаз, это обычно полезно, поэтому лучше ее отрисовывать;\n",
        "- если распределение на гистограмме имеет тяжёлые хвосты, лучше использовать логарифмическую шкалу.\n",
        "\n",
        "Еще одна билиотека для визуализации: [seaborn](https://jakevdp.github.io/PythonDataScienceHandbook/04.14-visualization-with-seaborn.html). Это настройка над matplotlib, иногда удобнее и красивее делать визуализации через неё.\n",
        "\n",
        "У `polars` уже есть встроенные инструменты для визуализации, в частности интерактивные на базе [hvplot](https://docs.pola.rs/user-guide/misc/visualization/#plotly). Из её преимуществ - хорошая производительность при работе с большими данными, есть поддержка самых популярных видов графиков, но синтаксис не самый удобный"
      ]
    },
    {
      "cell_type": "markdown",
      "metadata": {
        "id": "QkH7afPm3JKs"
      },
      "source": [
        "#### 7. [0.5 балла] Постройте график средних рейтингов по дням получения ответов (bar plot)."
      ]
    },
    {
      "cell_type": "code",
      "source": [
        "import matplotlib.pyplot as plt\n",
        "\n",
        "dayavg = df.with_columns([\n",
        "    pl.col(\"timestamp\").str.slice(0, 10).alias(\"day\")]).group_by([\"day\"]).agg([\n",
        "    pl.col(\"rating\").mean()]).sort(\"day\")\n",
        "\n",
        "days = dayavg[\"day\"].to_list()\n",
        "rating = dayavg[\"rating\"].to_list()\n",
        "\n",
        "plt.figure(figsize=(10, 6))\n",
        "plt.bar(days, rating, color = 'green')\n",
        "plt.xlabel(\"Day\")\n",
        "plt.ylabel(\"Rating\")\n",
        "plt.title(\"AVG rating/day\")\n",
        "plt.xticks(rotation=45)\n",
        "\n",
        "plt.tight_layout()\n",
        "plt.savefig(\"avgrating_by_days\", format = \"pdf\")\n",
        "plt.show()"
      ],
      "metadata": {
        "colab": {
          "base_uri": "https://localhost:8080/",
          "height": 607
        },
        "id": "FcBWwoBhFHHK",
        "outputId": "4743e714-df40-4021-e67d-32e4ed4a15b8"
      },
      "execution_count": 141,
      "outputs": [
        {
          "output_type": "display_data",
          "data": {
            "text/plain": [
              "<Figure size 1000x600 with 1 Axes>"
            ],
            "image/png": "[encoded data removed]"
          },
          "metadata": {}
        }
      ]
    },
    {
      "cell_type": "markdown",
      "metadata": {
        "id": "EvWtDBRp3JKt"
      },
      "source": [
        "### 2. Распределение студентов по курсам."
      ]
    },
    {
      "cell_type": "markdown",
      "metadata": {
        "id": "zTPksBGL3JKt"
      },
      "source": [
        "<span style=\"color:red\">!!!ВНИМАТЕЛЬНО ИЗУЧИТЕ ТЕКСТ НИЖЕ!!!</span>.\n",
        "\n",
        "<span style=\"color:orange\">Если во время выполнения заданий у вас вознинут вопросы -- еще раз перечитайте текст целиком, скорее всего ответы уже содержатся в нем.</span>\n",
        "\n",
        "Теперь вам нужно распределить студентов по осенним курсам по выбору, учитывая их предпочтения."
      ]
    },
    {
      "cell_type": "markdown",
      "metadata": {
        "id": "S5lk67UA3JKt"
      },
      "source": [
        "## 📌 **Алгоритм распределения студентов по курсам**:\n",
        "1. По умолчанию на каждой дисциплине по выбору у 3 и 4 курсов может учиться 1 группа (до 30 студентов). Исключения описаны ниже. На blended-дисциплинах для четверокурсников количество мест не ограничено.\n",
        "2. Проводится первая волна отбора. Для каждой дисциплины формируется список тех, кто указал её первым приоритетом (если студент должен выбрать два курса по выбору, то для него дисциплины, которые он указал первым и вторым приоритетом, рассматриваются как дисциплины первого приоритета). Если желающих больше, чем мест, то выбирается топ по перцентилю рейтинга.\n",
        "3. На дисциплинах, где остались места после первой волны, формируются списки тех, кто выбрал их вторым приоритетом, и места заполняются лучшими по перцентили рейтинга студентами. После этого проводится такая же процедура для дисциплин третьего приоритета.\n",
        "4. Если студент не попал на необходимое количество курсов по итогам трёх волн, с ним связывается учебный офис и решает вопрос в индивидуальном порядке."
      ]
    },
    {
      "cell_type": "markdown",
      "metadata": {
        "id": "Ux4yMPan3JKu"
      },
      "source": [
        "## ☝️ **Обращаем ваше внимание на следующие детали:**\n",
        "\n",
        "- Конкурс на каждый курс общий для 3-го и 4-го курса\n",
        "\n",
        "- По умолчанию студент выбирает один осенний и один весенний курс по выбору, а также четверокурсники выбирают один blended-курс. Студенты групп 17-го года специализаций МОП и ТИ выбирают по 2 осенних и 2 весенних курса по выбору, также студенты групп 18' специализации МИ выбирают 2 осенних курса. <i>Для студентов, которые выбирают 2 курса (например, осенних) первый приоритет — <code>fall_1</code> и <code>fall_2</code>, второй приоритет — <code>fall_3</code>. Такие студенты участвуют только в двух волнах отбора</i>.\n",
        "\n",
        "- Студенты специализации МОП не могут выбрать весенним курсом по выбору Машинное обучение 2. **Если студент специализации МОП выбрал Машинное обучение 2, то его приоритеты сдвигаются.** Из-за совпадений первого и второго курса по выбору двигать приоритеты не надо.\n",
        "\n",
        "- Blended-курсы не трогайте, по ним не надо распределять, на другие курсы они никак не влияют.\n",
        "\n",
        "- Заведомо известно, что в процессе распределения не возникнет ситуации, когда на одно место претендуют студенты с одинаковым перцентилем.\n",
        "\n",
        "- Постарайтесь воздержаться от использования циклов там, где это возможно. <i>Допустимо итерироваться по <b>курсам</b>, на которые проводится отбор, и по <b>волнам</b> отбора. Если вы придумаете, как обойтись и без этих циклов, то на усмотрение проверяющего могут быть добавлены бонусные баллы. <b>Дублирование кода не признается успешным избавлением от циклов</b></i>\n",
        "\n",
        "- На выходе ожидается файл res_fall.csv с результатами распределения на осенние курсы по выбору. Файл должен быть следующего формата:\n",
        "\n",
        "    * три столбца: ID, course1, course2\n",
        "    \n",
        "    * Если студент не попал на курс, но должен был, то вместо названия курса в ячейке должна быть строка \"???\"\n",
        "    \n",
        "    * Если студент должен выбрать только один курс, то в колонке course2 для него должна стоять строка \"-\"\n",
        "\n",
        "    * Если студент должен выбрать два курса по выбору, то порядок в колонках course1 и course2 не важен.\n",
        "    \n",
        "    * Формат csv: для сохранения воспользуйтесь `df.write_csv('solution.csv')`"
      ]
    },
    {
      "cell_type": "markdown",
      "source": [
        "Для работы вам могут понадобиться следующие данные:\n",
        "\n",
        "- Результаты опроса (вы уже использовали этот файл в первой части задания, но на всякий случай ссылка: https://www.dropbox.com/s/f4rm8sjc3v99p0m/_end_seminar.xlsx?dl=0)\n",
        "\n",
        "- Соответствие номеров групп специализациям:\n",
        "\n",
        "    * 171, 172 - МОП; 173 - ТИ; 174 — АДИС; 175, 176 — РС; 177 — АПР\n",
        "    \n",
        "    * У студентов 18-го года номера групп соответствуют номерам до распределения по специализациям. Это означает, что по номеру группы 18* нельзя однозначно определить специализацию студента. При этом в рамках распределения важно знать информацию только о двух из них: МОП и МИ. Эти знание можно получить из колонок 'is_ml_student ' и 'is_mi' соответственно.\n",
        "\n",
        "- Ограничения по количеству мест на курсах по выбору:\n",
        "\n",
        "    * Осенние: везде 30 мест, кроме Statistical Learning Theory (60 мест), Высокопроизводительных вычислений (60 мест), Анализа неструктурированных данных ($\\infty$ мест)\n",
        "\n",
        "    * Весенние: везде 30 мест, кроме Обучения с подкреплением (60 мест), Анализа данных в бизнесе (60 мест).\n",
        "\n",
        "\n",
        "Кстати, убедитесь, что в данных больше нет пропусков и повторных записей и сделайте `.collect()`, если не сделали этого до"
      ],
      "metadata": {
        "id": "q4b6w14cS_rW"
      }
    },
    {
      "cell_type": "markdown",
      "metadata": {
        "id": "vOVE6Do13JKu"
      },
      "source": [
        "#### 0. Проверка\n",
        "\n",
        "Для начала давайте убедимся, что вы успешно выполнили задания первой части и проверим ваши данные на наличие пропусков и повторов"
      ]
    },
    {
      "cell_type": "code",
      "source": [
        "assert type(df) == pl.DataFrame, \"Датафрейм не собран\"\n",
        "assert df.shape[0] == 347, \"В таблице остались повторы или потеряны данные\"\n",
        "assert df.null_count().sum_horizontal().item() == 0, \"В таблице остались пропуски\""
      ],
      "metadata": {
        "id": "tNeCa71zHEe8"
      },
      "execution_count": 92,
      "outputs": []
    },
    {
      "cell_type": "markdown",
      "metadata": {
        "id": "H7qZDN0y3JKu"
      },
      "source": [
        "Если вы не получили AssertionError, то можете продолжать."
      ]
    },
    {
      "cell_type": "markdown",
      "metadata": {
        "id": "y81hqcoZ3JKu"
      },
      "source": [
        "#### 1. [1 балл] Создайте новый признак, обозначающий, сколько осенних курсов должен выбрать студент\n",
        "\n",
        "В этом вам может помочь информация о специализации и группе студента."
      ]
    },
    {
      "cell_type": "code",
      "source": [
        "df_copy = df\n",
        "df_copy.head()"
      ],
      "metadata": {
        "colab": {
          "base_uri": "https://localhost:8080/",
          "height": 448
        },
        "id": "jPwbPUv1BNFE",
        "outputId": "a89bfcc1-a7d2-4e3d-8f23-2f713b3c5fc5"
      },
      "execution_count": 94,
      "outputs": [
        {
          "output_type": "execute_result",
          "data": {
            "text/plain": [
              "shape: (5, 16)\n",
              "┌─────────────┬─────────────┬────────┬──────────┬───┬────────────┬──────────┬─────────┬────────────┐\n",
              "│ id          ┆ timestamp   ┆ rating ┆ 18_group ┆ … ┆ percentile ┆ 17_group ┆ blended ┆ is_ml_stud │\n",
              "│ ---         ┆ ---         ┆ ---    ┆ ---      ┆   ┆ ---        ┆ ---      ┆ ---     ┆ ent        │\n",
              "│ str         ┆ str         ┆ i64    ┆ i64      ┆   ┆ f64        ┆ str      ┆ str     ┆ ---        │\n",
              "│             ┆             ┆        ┆          ┆   ┆            ┆          ┆         ┆ bool       │\n",
              "╞═════════════╪═════════════╪════════╪══════════╪═══╪════════════╪══════════╪═════════╪════════════╡\n",
              "│ 77c7b37ee52 ┆ 2020-05-15  ┆ 735    ┆ 183      ┆ … ┆ 0.076233   ┆          ┆         ┆ false      │\n",
              "│ 1df16ccff23 ┆ 16:13:05    ┆        ┆          ┆   ┆            ┆          ┆         ┆            │\n",
              "│ ba50c893…   ┆             ┆        ┆          ┆   ┆            ┆          ┆         ┆            │\n",
              "│ a0c56e8aa03 ┆ 2020-05-15  ┆ 751    ┆ 182      ┆ … ┆ 0.044843   ┆          ┆         ┆ true       │\n",
              "│ ea6c1f5e846 ┆ 22:59:40    ┆        ┆          ┆   ┆            ┆          ┆         ┆            │\n",
              "│ 29144720…   ┆             ┆        ┆          ┆   ┆            ┆          ┆         ┆            │\n",
              "│ 1b7e1b30238 ┆ 2020-05-14  ┆ 1129   ┆ 0        ┆ … ┆ 0.594203   ┆ 175      ┆ DevOps  ┆ false      │\n",
              "│ f393811a2b4 ┆ 21:11:10    ┆        ┆          ┆   ┆            ┆          ┆         ┆            │\n",
              "│ 8c6f6a06…   ┆             ┆        ┆          ┆   ┆            ┆          ┆         ┆            │\n",
              "│ 9fa4bc4eb50 ┆ 2020-05-18  ┆ 600    ┆ 188      ┆ … ┆ 0.650224   ┆          ┆         ┆ false      │\n",
              "│ e574e88b670 ┆ 21:47:05    ┆        ┆          ┆   ┆            ┆          ┆         ┆            │\n",
              "│ a8678186…   ┆             ┆        ┆          ┆   ┆            ┆          ┆         ┆            │\n",
              "│ 9d19b0d5f4f ┆ 2020-05-24  ┆ 695    ┆ 188      ┆ … ┆ 0.197309   ┆          ┆         ┆ false      │\n",
              "│ c8d7edc2258 ┆ 01:23:31    ┆        ┆          ┆   ┆            ┆          ┆         ┆            │\n",
              "│ 406f872c…   ┆             ┆        ┆          ┆   ┆            ┆          ┆         ┆            │\n",
              "└─────────────┴─────────────┴────────┴──────────┴───┴────────────┴──────────┴─────────┴────────────┘"
            ],
            "text/html": [
              "<div><style>\n",
              ".dataframe > thead > tr,\n",
              ".dataframe > tbody > tr {\n",
              "  text-align: right;\n",
              "  white-space: pre-wrap;\n",
              "}\n",
              "</style>\n",
              "<small>shape: (5, 16)</small><table border=\"1\" class=\"dataframe\"><thead><tr><th>id</th><th>timestamp</th><th>rating</th><th>18_group</th><th>is_mi</th><th>fall_1</th><th>fall_2</th><th>fall_3</th><th>spring_1</th><th>spring_2</th><th>spring_3</th><th>is_first_time</th><th>percentile</th><th>17_group</th><th>blended</th><th>is_ml_student</th></tr><tr><td>str</td><td>str</td><td>i64</td><td>i64</td><td>i64</td><td>str</td><td>str</td><td>str</td><td>str</td><td>str</td><td>str</td><td>str</td><td>f64</td><td>str</td><td>str</td><td>bool</td></tr></thead><tbody><tr><td>&quot;77c7b37ee521df16ccff23ba50c893…</td><td>&quot;2020-05-15 16:13:05&quot;</td><td>735</td><td>183</td><td>0</td><td>&quot;Высокопроизводительные вычисле…</td><td>&quot;Язык SQL&quot;</td><td>&quot;Безопасность компьютерных сист…</td><td>&quot;Компьютерные сети&quot;</td><td>&quot;Промышленное программирование …</td><td>&quot;Машинное обучение 2&quot;</td><td>&quot;Да&quot;</td><td>0.076233</td><td>&quot;&quot;</td><td>&quot;&quot;</td><td>false</td></tr><tr><td>&quot;a0c56e8aa03ea6c1f5e84629144720…</td><td>&quot;2020-05-15 22:59:40&quot;</td><td>751</td><td>182</td><td>0</td><td>&quot;Сбор и обработка данных с помо…</td><td>&quot;Statistical Learning Theory&quot;</td><td>&quot;Моделирование временных рядов&quot;</td><td>&quot;Дополнительные главы прикладно…</td><td>&quot;Дискретная оптимизация&quot;</td><td>&quot;Численные методы&quot;</td><td>&quot;Да&quot;</td><td>0.044843</td><td>&quot;&quot;</td><td>&quot;&quot;</td><td>true</td></tr><tr><td>&quot;1b7e1b30238f393811a2b48c6f6a06…</td><td>&quot;2020-05-14 21:11:10&quot;</td><td>1129</td><td>0</td><td>0</td><td>&quot;Высокопроизводительные вычисле…</td><td>&quot;Безопасность компьютерных сист…</td><td>&quot;Сбор и обработка данных с помо…</td><td>&quot;Проектирование и разработка вы…</td><td>&quot;Методы сжатия и передачи медиа…</td><td>&quot;Компьютерное зрение&quot;</td><td>&quot;Да&quot;</td><td>0.594203</td><td>&quot;175&quot;</td><td>&quot;DevOps&quot;</td><td>false</td></tr><tr><td>&quot;9fa4bc4eb50e574e88b670a8678186…</td><td>&quot;2020-05-18 21:47:05&quot;</td><td>600</td><td>188</td><td>0</td><td>&quot;Язык SQL&quot;</td><td>&quot;Высокопроизводительные вычисле…</td><td>&quot;Сбор и обработка данных с помо…</td><td>&quot;Промышленное программирование …</td><td>&quot;Компьютерные сети&quot;</td><td>&quot;Машинное обучение 2&quot;</td><td>&quot;Нет&quot;</td><td>0.650224</td><td>&quot;&quot;</td><td>&quot;&quot;</td><td>false</td></tr><tr><td>&quot;9d19b0d5f4fc8d7edc2258406f872c…</td><td>&quot;2020-05-24 01:23:31&quot;</td><td>695</td><td>188</td><td>0</td><td>&quot;Безопасность компьютерных сист…</td><td>&quot;Язык SQL&quot;</td><td>&quot;Высокопроизводительные вычисле…</td><td>&quot;Компьютерные сети&quot;</td><td>&quot;Дискретная оптимизация&quot;</td><td>&quot;Численные методы&quot;</td><td>&quot;&quot;</td><td>0.197309</td><td>&quot;&quot;</td><td>&quot;&quot;</td><td>false</td></tr></tbody></table></div>"
            ]
          },
          "metadata": {},
          "execution_count": 94
        }
      ]
    },
    {
      "cell_type": "code",
      "execution_count": 95,
      "metadata": {
        "id": "ThOnhPTs3JKv",
        "colab": {
          "base_uri": "https://localhost:8080/",
          "height": 448
        },
        "outputId": "b6535b1c-d0ca-4c98-a6c4-a19bbc4aa159"
      },
      "outputs": [
        {
          "output_type": "execute_result",
          "data": {
            "text/plain": [
              "shape: (5, 17)\n",
              "┌─────────────┬─────────────┬────────┬──────────┬───┬──────────┬─────────┬────────────┬────────────┐\n",
              "│ id          ┆ timestamp   ┆ rating ┆ 18_group ┆ … ┆ 17_group ┆ blended ┆ is_ml_stud ┆ fall_cours │\n",
              "│ ---         ┆ ---         ┆ ---    ┆ ---      ┆   ┆ ---      ┆ ---     ┆ ent        ┆ es_amount  │\n",
              "│ str         ┆ str         ┆ i64    ┆ i64      ┆   ┆ str      ┆ str     ┆ ---        ┆ ---        │\n",
              "│             ┆             ┆        ┆          ┆   ┆          ┆         ┆ bool       ┆ i32        │\n",
              "╞═════════════╪═════════════╪════════╪══════════╪═══╪══════════╪═════════╪════════════╪════════════╡\n",
              "│ 77c7b37ee52 ┆ 2020-05-15  ┆ 735    ┆ 183      ┆ … ┆          ┆         ┆ false      ┆ 1          │\n",
              "│ 1df16ccff23 ┆ 16:13:05    ┆        ┆          ┆   ┆          ┆         ┆            ┆            │\n",
              "│ ba50c893…   ┆             ┆        ┆          ┆   ┆          ┆         ┆            ┆            │\n",
              "│ a0c56e8aa03 ┆ 2020-05-15  ┆ 751    ┆ 182      ┆ … ┆          ┆         ┆ true       ┆ 1          │\n",
              "│ ea6c1f5e846 ┆ 22:59:40    ┆        ┆          ┆   ┆          ┆         ┆            ┆            │\n",
              "│ 29144720…   ┆             ┆        ┆          ┆   ┆          ┆         ┆            ┆            │\n",
              "│ 1b7e1b30238 ┆ 2020-05-14  ┆ 1129   ┆ 0        ┆ … ┆ 175      ┆ DevOps  ┆ false      ┆ 1          │\n",
              "│ f393811a2b4 ┆ 21:11:10    ┆        ┆          ┆   ┆          ┆         ┆            ┆            │\n",
              "│ 8c6f6a06…   ┆             ┆        ┆          ┆   ┆          ┆         ┆            ┆            │\n",
              "│ 9fa4bc4eb50 ┆ 2020-05-18  ┆ 600    ┆ 188      ┆ … ┆          ┆         ┆ false      ┆ 1          │\n",
              "│ e574e88b670 ┆ 21:47:05    ┆        ┆          ┆   ┆          ┆         ┆            ┆            │\n",
              "│ a8678186…   ┆             ┆        ┆          ┆   ┆          ┆         ┆            ┆            │\n",
              "│ 9d19b0d5f4f ┆ 2020-05-24  ┆ 695    ┆ 188      ┆ … ┆          ┆         ┆ false      ┆ 1          │\n",
              "│ c8d7edc2258 ┆ 01:23:31    ┆        ┆          ┆   ┆          ┆         ┆            ┆            │\n",
              "│ 406f872c…   ┆             ┆        ┆          ┆   ┆          ┆         ┆            ┆            │\n",
              "└─────────────┴─────────────┴────────┴──────────┴───┴──────────┴─────────┴────────────┴────────────┘"
            ],
            "text/html": [
              "<div><style>\n",
              ".dataframe > thead > tr,\n",
              ".dataframe > tbody > tr {\n",
              "  text-align: right;\n",
              "  white-space: pre-wrap;\n",
              "}\n",
              "</style>\n",
              "<small>shape: (5, 17)</small><table border=\"1\" class=\"dataframe\"><thead><tr><th>id</th><th>timestamp</th><th>rating</th><th>18_group</th><th>is_mi</th><th>fall_1</th><th>fall_2</th><th>fall_3</th><th>spring_1</th><th>spring_2</th><th>spring_3</th><th>is_first_time</th><th>percentile</th><th>17_group</th><th>blended</th><th>is_ml_student</th><th>fall_courses_amount</th></tr><tr><td>str</td><td>str</td><td>i64</td><td>i64</td><td>i64</td><td>str</td><td>str</td><td>str</td><td>str</td><td>str</td><td>str</td><td>str</td><td>f64</td><td>str</td><td>str</td><td>bool</td><td>i32</td></tr></thead><tbody><tr><td>&quot;77c7b37ee521df16ccff23ba50c893…</td><td>&quot;2020-05-15 16:13:05&quot;</td><td>735</td><td>183</td><td>0</td><td>&quot;Высокопроизводительные вычисле…</td><td>&quot;Язык SQL&quot;</td><td>&quot;Безопасность компьютерных сист…</td><td>&quot;Компьютерные сети&quot;</td><td>&quot;Промышленное программирование …</td><td>&quot;Машинное обучение 2&quot;</td><td>&quot;Да&quot;</td><td>0.076233</td><td>&quot;&quot;</td><td>&quot;&quot;</td><td>false</td><td>1</td></tr><tr><td>&quot;a0c56e8aa03ea6c1f5e84629144720…</td><td>&quot;2020-05-15 22:59:40&quot;</td><td>751</td><td>182</td><td>0</td><td>&quot;Сбор и обработка данных с помо…</td><td>&quot;Statistical Learning Theory&quot;</td><td>&quot;Моделирование временных рядов&quot;</td><td>&quot;Дополнительные главы прикладно…</td><td>&quot;Дискретная оптимизация&quot;</td><td>&quot;Численные методы&quot;</td><td>&quot;Да&quot;</td><td>0.044843</td><td>&quot;&quot;</td><td>&quot;&quot;</td><td>true</td><td>1</td></tr><tr><td>&quot;1b7e1b30238f393811a2b48c6f6a06…</td><td>&quot;2020-05-14 21:11:10&quot;</td><td>1129</td><td>0</td><td>0</td><td>&quot;Высокопроизводительные вычисле…</td><td>&quot;Безопасность компьютерных сист…</td><td>&quot;Сбор и обработка данных с помо…</td><td>&quot;Проектирование и разработка вы…</td><td>&quot;Методы сжатия и передачи медиа…</td><td>&quot;Компьютерное зрение&quot;</td><td>&quot;Да&quot;</td><td>0.594203</td><td>&quot;175&quot;</td><td>&quot;DevOps&quot;</td><td>false</td><td>1</td></tr><tr><td>&quot;9fa4bc4eb50e574e88b670a8678186…</td><td>&quot;2020-05-18 21:47:05&quot;</td><td>600</td><td>188</td><td>0</td><td>&quot;Язык SQL&quot;</td><td>&quot;Высокопроизводительные вычисле…</td><td>&quot;Сбор и обработка данных с помо…</td><td>&quot;Промышленное программирование …</td><td>&quot;Компьютерные сети&quot;</td><td>&quot;Машинное обучение 2&quot;</td><td>&quot;Нет&quot;</td><td>0.650224</td><td>&quot;&quot;</td><td>&quot;&quot;</td><td>false</td><td>1</td></tr><tr><td>&quot;9d19b0d5f4fc8d7edc2258406f872c…</td><td>&quot;2020-05-24 01:23:31&quot;</td><td>695</td><td>188</td><td>0</td><td>&quot;Безопасность компьютерных сист…</td><td>&quot;Язык SQL&quot;</td><td>&quot;Высокопроизводительные вычисле…</td><td>&quot;Компьютерные сети&quot;</td><td>&quot;Дискретная оптимизация&quot;</td><td>&quot;Численные методы&quot;</td><td>&quot;&quot;</td><td>0.197309</td><td>&quot;&quot;</td><td>&quot;&quot;</td><td>false</td><td>1</td></tr></tbody></table></div>"
            ]
          },
          "metadata": {},
          "execution_count": 95
        }
      ],
      "source": [
        "df_prisnak = df.with_columns(\n",
        "    pl.when((pl.col('is_mi') == 1) |\n",
        "            (pl.col('17_group').is_in(['171', '172', '173'])))\n",
        "    .then(2)\n",
        "    .otherwise(1)\n",
        "    .alias('fall_courses_cnt')\n",
        ")\n",
        "\n",
        "df_prisnak.head()"
      ]
    },
    {
      "cell_type": "code",
      "source": [
        "df = df_prisnak"
      ],
      "metadata": {
        "id": "hLMKtN_SBk5x"
      },
      "execution_count": 97,
      "outputs": []
    },
    {
      "cell_type": "markdown",
      "metadata": {
        "id": "hapnRDPU3JKv"
      },
      "source": [
        "Проверка:"
      ]
    },
    {
      "cell_type": "code",
      "execution_count": 99,
      "metadata": {
        "id": "3qK9-jmP3JKv"
      },
      "outputs": [],
      "source": [
        "col_name = 'fall_courses_cnt'\n",
        "\n",
        "ids = [\n",
        "    \"2662600c2c37e11e62f6ee0b88452f22\",\n",
        "    \"d555d2805e1d93d4f023e57dc4c8f403\",\n",
        "    \"8fe79f84f36e3a5d2d6745621321302c\",\n",
        "    \"e4caca755ee0bdd711e18fb8084958b5\",\n",
        "]\n",
        "\n",
        "assert (\n",
        "    df.filter(pl.col(\"id\").is_in(ids)).sort(\"id\")[col_name] == [2, 1, 2, 1]\n",
        ").all()"
      ]
    },
    {
      "cell_type": "markdown",
      "metadata": {
        "id": "kty-lzOJ3JKv"
      },
      "source": [
        "#### 2. [2 балла] Распределите студентов в соответствии с первым приоритетом"
      ]
    },
    {
      "cell_type": "code",
      "execution_count": 140,
      "metadata": {
        "id": "l5149AYH3JKv"
      },
      "outputs": [],
      "source": [
        "#"
      ]
    },
    {
      "cell_type": "markdown",
      "metadata": {
        "id": "YtFzmI0q3JKv"
      },
      "source": [
        "Здесь для проверки приведена таблица, в которой есть 2 дополнительные колонки:\n",
        "    \n",
        "    1) is_first_place - является ли студент лучшим по перцентили хотя бы на одном из курсов, куда он был зачислен\n",
        "    (True / NaN)\n",
        "    \n",
        "    2) is_last_place  - является ли студент худшим по перцентили хотя бы на одном из курсов, куда он был зачислен (True / NaN)"
      ]
    },
    {
      "cell_type": "code",
      "execution_count": null,
      "metadata": {
        "id": "Fdmh053Y3JKw"
      },
      "outputs": [],
      "source": [
        "!wget  -O '2_task_check.csv' -q 'https://www.dropbox.com/s/v8o2zzq3iz5gc9w/_2_task_check.csv?dl=0'\n",
        "check_df = pl.read_csv('2_task_check.csv')"
      ]
    },
    {
      "cell_type": "markdown",
      "metadata": {
        "id": "eA-fUDln3JKw"
      },
      "source": [
        "После распределения студентов в соответствии с первым приоритетом добавьте в свой датафрейм аналогичные признаки и запустите проверку:"
      ]
    },
    {
      "cell_type": "code",
      "execution_count": null,
      "metadata": {
        "id": "ueNXylC23JKw"
      },
      "outputs": [],
      "source": [
        "fir_col_name =  # insert name of your new column with is_first_place as str\n",
        "last_col_name =  # insert name of your new column with is_last_place as str\n",
        "\n",
        "assert (\n",
        "    check_df.sort(\"id\").select(\"is_first_place\", \"is_last_place\")\n",
        "    == df_wave_1.sort(\"id\").select(fir_col_name, last_col_name)\n",
        ").sum().rows() == [(10, 12)]"
      ]
    },
    {
      "cell_type": "markdown",
      "metadata": {
        "id": "qrPM6dpZ3JKw"
      },
      "source": [
        "#### 3. [2 балла] Проведите все три волны отбора студентов на курсы по выбору"
      ]
    },
    {
      "cell_type": "code",
      "execution_count": null,
      "metadata": {
        "id": "G_pKJQHo3JKw",
        "collapsed": true
      },
      "outputs": [],
      "source": [
        "# (￣^￣)ゞ"
      ]
    },
    {
      "cell_type": "markdown",
      "metadata": {
        "id": "JgiMyLJz3JKw"
      },
      "source": [
        "**Отправьте свой файл res_fall.csv в контест (будет в ближайшее время, следите за новостями) и прикрепите/укажите ниже ваш никнейм и ссылку на успешную посылку.**"
      ]
    },
    {
      "cell_type": "markdown",
      "metadata": {
        "id": "3za2-Axk3JKw"
      },
      "source": [
        "*Дисклеймер:*\n",
        "\n",
        "Контест выдаётся для самопроверки. Если ваша посылка получила ОК, то код, скорее всего, правильный. Но при этом оценка всё равно может быть снижена в случае обнаружения неэффективностей или ошибок в коде. Если вы сдадите в AnyTask очевидно неработающий код или ноутбук без кода, но при этом в контест будет сдан корректный файл, то это будет расцениваться как плагиат."
      ]
    },
    {
      "cell_type": "markdown",
      "metadata": {
        "id": "jzciJOzo3JKw"
      },
      "source": [
        "На всякий случай просим вас сдать вместе с ноутбуком файл res_fall.csv в anytask"
      ]
    },
    {
      "cell_type": "markdown",
      "metadata": {
        "id": "XRHWCteT3JKx"
      },
      "source": [
        "### 4. [1 балл] Распределите таким же образом студентов еще и на весенние курсы по выбору.\n",
        "\n",
        "Если ваш код был хорошо структурирован, то это не составит проблем.\n",
        "\n",
        "Если вы выполнили это задание, сдайте среди прочего файл res_spring.csv в таком же формате, как и res_fall.csv."
      ]
    },
    {
      "cell_type": "code",
      "execution_count": null,
      "metadata": {
        "id": "8hDYJoMO3JKx"
      },
      "outputs": [],
      "source": [
        "# (￣^'￣)ゞ"
      ]
    },
    {
      "cell_type": "markdown",
      "metadata": {
        "id": "xw9tt9dH3JKx"
      },
      "source": [
        "**Отправьте свой файл res_spring.csv в контест (будет в ближайшее время, следите за новостями) и прикрепите/укажите ниже ваш никнейм и ссылку на успешную посылку.**"
      ]
    },
    {
      "cell_type": "markdown",
      "metadata": {
        "id": "7aB4Q1fs3JKx"
      },
      "source": [
        "На всякий случай просим вас сдать вместе с ноутбуком файл res_spring.csv в anytask"
      ]
    },
    {
      "cell_type": "markdown",
      "metadata": {
        "id": "M1LivaOx3JKx"
      },
      "source": [
        "Вставьте картинку, описывающую ваш опыт выполнения этого задания:"
      ]
    },
    {
      "cell_type": "markdown",
      "source": [
        "![image.png](data:image/png;base64,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)"
      ],
      "metadata": {
        "id": "eTq7YSLCX8TX"
      }
    },
    {
      "cell_type": "code",
      "execution_count": null,
      "metadata": {
        "id": "QQ7X5fJW3JKx"
      },
      "outputs": [],
      "source": []
    }
  ],
  "metadata": {
    "colab": {
      "provenance": [],
      "machine_shape": "hm"
    },
    "kernelspec": {
      "display_name": "Python 3",
      "name": "python3"
    },
    "language_info": {
      "codemirror_mode": {
        "name": "ipython",
        "version": 3
      },
      "file_extension": ".py",
      "mimetype": "text/x-python",
      "name": "python",
      "nbconvert_exporter": "python",
      "pygments_lexer": "ipython3",
      "version": "3.10.13"
    }
  },
  "nbformat": 4,
  "nbformat_minor": 0
}